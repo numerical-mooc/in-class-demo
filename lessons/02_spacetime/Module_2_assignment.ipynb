{
 "cells": [
  {
   "cell_type": "code",
   "execution_count": 1,
   "metadata": {
    "collapsed": true
   },
   "outputs": [],
   "source": [
    "import numpy\n",
    "import sympy\n",
    "from matplotlib import pyplot\n",
    "%matplotlib inline\n",
    "from matplotlib import rcParams\n",
    "rcParams['font.family'] = 'serif'\n",
    "rcParams['font.size'] = 16\n",
    "from sympy import init_printing\n",
    "init_printing()"
   ]
  },
  {
   "cell_type": "code",
   "execution_count": 2,
   "metadata": {
    "collapsed": true
   },
   "outputs": [],
   "source": [
    "Vmax = 80\n",
    "L = 11\n",
    "rho_max = 250\n",
    "nx = 51\n",
    "dt = .001 #[hours]\n",
    "dx = L/nx"
   ]
  },
  {
   "cell_type": "code",
   "execution_count": 13,
   "metadata": {
    "collapsed": false
   },
   "outputs": [],
   "source": [
    "#Initial Conditions\n",
    "x = numpy.linspace(0, L, nx)\n",
    "rho0 = numpy.ones(nx)*10\n",
    "rho0[10:20] = 50\n",
    "\n",
    "#Boundary Condition\n",
    "rho0[0] = 10"
   ]
  },
  {
   "cell_type": "code",
   "execution_count": 14,
   "metadata": {
    "collapsed": false
   },
   "outputs": [],
   "source": [
    "F, V, t = sympy.symbols('F V t')\n",
    "#F = Vmax*rho*(1-rho/rho_max)\n",
    "rho = rho0"
   ]
  },
  {
   "cell_type": "code",
   "execution_count": 15,
   "metadata": {
    "collapsed": false
   },
   "outputs": [
    {
     "name": "stdout",
     "output_type": "stream",
     "text": [
      "Min. velocity at t=0 is: 17.77777777777778 m/s\n"
     ]
    }
   ],
   "source": [
    "v0 = Vmax*(1-rho0/rho_max)\n",
    "vmin = min(v0)/3.6 #units in m/s \n",
    "print(\"Min. velocity at t=0 is: {} m/s\".format(vmin))"
   ]
  },
  {
   "cell_type": "code",
   "execution_count": 25,
   "metadata": {
    "collapsed": false
   },
   "outputs": [
    {
     "name": "stdout",
     "output_type": "stream",
     "text": [
      "[  10.           10.           10.           10.           10.           10.\n",
      "   10.           10.           10.           10.          127.87152607\n",
      "   22.34887993   56.79622728   49.3356449    50.02590363   50.           50.\n",
      "   50.           50.           50.         -116.57219222   97.81139101\n",
      "  -10.45406889   12.99485987    9.84182841   10.           10.           10.\n",
      "   10.           10.           10.           10.           10.           10.\n",
      "   10.           10.           10.           10.           10.           10.\n",
      "   10.           10.           10.           10.           10.           10.\n",
      "   10.           10.           10.           10.           10.        ]\n"
     ]
    },
    {
     "data": {
      "image/png": "[encoded data removed]",
      "text/plain": [
       "<matplotlib.figure.Figure at 0x7f1c19c5db00>"
      ]
     },
     "metadata": {},
     "output_type": "display_data"
    }
   ],
   "source": [
    "#test code, can do one time step at a time.\n",
    "#rho_n = rho.copy()\n",
    "#rho_n = rho0.copy()\n",
    "test = rho_n\n",
    "test[0] = 10\n",
    "test[1:] = dt/dx*(Vmax*rho_n[1:]*(1-rho_n[1:]/rho_max) - Vmax*rho_n[0:-1]*(1-rho_n[0:-1]/rho_max)) + rho_n[1:]\n",
    "print(test)\n",
    "\n",
    "pyplot.figure(figsize=(8,5), dpi=100)\n",
    "pyplot.plot(x, test, ls='--', lw=3)\n",
    "pyplot.xlim([0,2*numpy.pi])\n",
    "pyplot.ylim([0,60]);"
   ]
  },
  {
   "cell_type": "code",
   "execution_count": 9,
   "metadata": {
    "collapsed": false
   },
   "outputs": [
    {
     "name": "stdout",
     "output_type": "stream",
     "text": [
      "[  10.          10.          10.          10.          10.          10.\n",
      "   10.          10.          10.          10.         239.9999979\n",
      "         -inf          nan          nan          nan          nan\n",
      "          nan          nan          nan          nan          nan\n",
      "          nan          nan          nan          nan          nan\n",
      "          nan          nan          nan          nan          nan\n",
      "          nan          nan          nan          nan          nan\n",
      "          nan          nan          nan          nan          nan\n",
      "          nan          nan          nan          nan          nan\n",
      "          nan          nan          nan          nan          nan]\n"
     ]
    },
    {
     "name": "stderr",
     "output_type": "stream",
     "text": [
      "/home/randy/anaconda3/lib/python3.4/site-packages/ipykernel/__main__.py:8: RuntimeWarning: overflow encountered in multiply\n",
      "/home/randy/anaconda3/lib/python3.4/site-packages/ipykernel/__main__.py:8: RuntimeWarning: invalid value encountered in subtract\n"
     ]
    }
   ],
   "source": [
    "T = 3/60\n",
    "nt = int(T/dt)\n",
    "\n",
    "for n in range(nt):\n",
    "    rho_n = rho.copy()\n",
    "    \n",
    "    rho[0] = 10\n",
    "    rho[1:] = dt/dx*(Vmax*rho_n[1:]*(1-rho_n[1:]/rho_max) - \\\n",
    "                     Vmax*rho_n[0:-1]*(1-rho_n[0:-1]/rho_max)) + rho_n[1:]\n",
    "    \n",
    "print(rho)"
   ]
  },
  {
   "cell_type": "code",
   "execution_count": null,
   "metadata": {
    "collapsed": false
   },
   "outputs": [],
   "source": [
    "pyplot.figure(figsize=(8,5), dpi=100)\n",
    "pyplot.plot(x, rho, ls='--', lw=3)\n",
    "pyplot.xlim([0,2*numpy.pi])\n",
    "pyplot.ylim([0,60]);"
   ]
  },
  {
   "cell_type": "code",
   "execution_count": null,
   "metadata": {
    "collapsed": false
   },
   "outputs": [],
   "source": []
  },
  {
   "cell_type": "code",
   "execution_count": null,
   "metadata": {
    "collapsed": false
   },
   "outputs": [],
   "source": [
    "print(nt)"
   ]
  },
  {
   "cell_type": "code",
   "execution_count": null,
   "metadata": {
    "collapsed": false
   },
   "outputs": [],
   "source": []
  },
  {
   "cell_type": "code",
   "execution_count": null,
   "metadata": {
    "collapsed": false
   },
   "outputs": [],
   "source": []
  },
  {
   "cell_type": "code",
   "execution_count": null,
   "metadata": {
    "collapsed": false
   },
   "outputs": [],
   "source": [
    "a = [10, 15, 20]\n",
    "print(a[-1])\n",
    "print(a[1:-1])"
   ]
  },
  {
   "cell_type": "code",
   "execution_count": null,
   "metadata": {
    "collapsed": false
   },
   "outputs": [],
   "source": [
    "Vmax = 136\n",
    "x = numpy.linspace(0,L,nx)\n",
    "rho0 = numpy.ones(nx)*20 ##note this change\n",
    "rho0[10:20] = 50\n",
    "rho0[0] = 20\n",
    "\n",
    "v0 = Vmax*(1-rho0/rho_max)\n",
    "vmin = min(v0)/3.6 #units in m/s \n",
    "print(\"Min. velocity at t=0 is: {} m/s\".format(vmin))"
   ]
  },
  {
   "cell_type": "code",
   "execution_count": null,
   "metadata": {
    "collapsed": true
   },
   "outputs": [],
   "source": []
  }
 ],
 "metadata": {
  "kernelspec": {
   "display_name": "Python 3",
   "language": "python",
   "name": "python3"
  },
  "language_info": {
   "codemirror_mode": {
    "name": "ipython",
    "version": 3
   },
   "file_extension": ".py",
   "mimetype": "text/x-python",
   "name": "python",
   "nbconvert_exporter": "python",
   "pygments_lexer": "ipython3",
   "version": "3.4.3"
  }
 },
 "nbformat": 4,
 "nbformat_minor": 0
}
