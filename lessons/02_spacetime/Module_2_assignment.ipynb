{
 "cells": [
  {
   "cell_type": "code",
   "execution_count": 1,
   "metadata": {
    "collapsed": true
   },
   "outputs": [],
   "source": [
    "import numpy\n",
    "import sympy\n",
    "from matplotlib import pyplot\n",
    "%matplotlib inline\n",
    "from matplotlib import rcParams\n",
    "rcParams['font.family'] = 'serif'\n",
    "rcParams['font.size'] = 16\n",
    "from sympy import init_printing\n",
    "init_printing()"
   ]
  },
  {
   "cell_type": "code",
   "execution_count": 2,
   "metadata": {
    "collapsed": true
   },
   "outputs": [],
   "source": [
    "Vmax = 80\n",
    "L = 11\n",
    "rho_max = 250\n",
    "nx = 51\n",
    "dt = .001 #[hours]\n",
    "dx = L/nx"
   ]
  },
  {
   "cell_type": "code",
   "execution_count": 65,
   "metadata": {
    "collapsed": false
   },
   "outputs": [],
   "source": [
    "#Initial Conditions\n",
    "x = numpy.linspace(0, L, nx)\n",
    "rho0 = numpy.ones(nx)*10\n",
    "rho0[10:20] = 50\n",
    "\n",
    "#Boundary Condition\n",
    "rho0[0] = 10"
   ]
  },
  {
   "cell_type": "code",
   "execution_count": 66,
   "metadata": {
    "collapsed": false
   },
   "outputs": [],
   "source": [
    "F, V, t = sympy.symbols('F V t')\n",
    "#F = Vmax*rho*(1-rho/rho_max)\n",
    "rho = rho0"
   ]
  },
  {
   "cell_type": "code",
   "execution_count": 67,
   "metadata": {
    "collapsed": false
   },
   "outputs": [
    {
     "name": "stdout",
     "output_type": "stream",
     "text": [
      "Min. velocity at t=0 is: 17.77777777777778 m/s\n"
     ]
    }
   ],
   "source": [
    "v0 = Vmax*(1-rho0/rho_max)\n",
    "vmin = min(v0)/3.6 #units in m/s \n",
    "print(\"Min. velocity at t=0 is: {} m/s\".format(vmin))"
   ]
  },
  {
   "cell_type": "code",
   "execution_count": 86,
   "metadata": {
    "collapsed": false
   },
   "outputs": [
    {
     "name": "stdout",
     "output_type": "stream",
     "text": [
      "10.0\n"
     ]
    },
    {
     "data": {
      "image/png": "[encoded data removed]",
      "text/plain": [
       "<matplotlib.figure.Figure at 0x7f1c19c6d550>"
      ]
     },
     "metadata": {},
     "output_type": "display_data"
    }
   ],
   "source": [
    "#test code, can do one time step at a time.\n",
    "#rho_n = rho0.copy()\n",
    "test = rho_n\n",
    "#test[0] = 10\n",
    "test[1:] = -dt/dx*(Vmax*rho_n[1:]*(1-rho_n[1:]/rho_max) - Vmax*rho_n[0:-1]*(1-rho_n[0:-1]/rho_max)) + rho_n[1:]\n",
    "print(test[0])\n",
    "\n",
    "pyplot.figure(figsize=(8,5), dpi=100)\n",
    "pyplot.plot(x, test, ls='--', lw=3)\n",
    "pyplot.xlim([0,2*numpy.pi])\n",
    "pyplot.ylim([0,60]);"
   ]
  },
  {
   "cell_type": "code",
   "execution_count": 87,
   "metadata": {
    "collapsed": false
   },
   "outputs": [
    {
     "name": "stdout",
     "output_type": "stream",
     "text": [
      "[ 10.          10.          10.          10.          10.          10.          10.\n",
      "  10.          10.          10.          10.00000005  10.00000127\n",
      "  10.00001735  10.00015563  10.00103417  10.005437    10.0235886   10.086997\n",
      "  10.27878591  10.78865366  11.98834601  14.47401921  18.90826617\n",
      "  25.44247108  33.00147592  39.58420358  43.74438266  45.35708385\n",
      "  45.03333827  43.4230657   40.99175583  38.04822801  34.80814686\n",
      "  31.43555942  28.06448857  24.80942068  21.76960455  19.02907933\n",
      "  16.65333318  14.68380984  13.13245641  11.97930729  11.17570909\n",
      "  10.65369256  10.3390231   10.16357413  10.07327577  10.03042875\n",
      "  10.0116975   10.00415722  10.00136389]\n"
     ]
    }
   ],
   "source": [
    "T = 6/60\n",
    "nt = int(T/dt)\n",
    "\n",
    "for n in range(nt):\n",
    "    rho_n = rho.copy()\n",
    "    \n",
    "    rho[0] = 10\n",
    "    rho[1:] = -dt/dx*Vmax*(rho_n[1:]*(1-rho_n[1:]/rho_max) - \\\n",
    "                     rho_n[0:-1]*(1-rho_n[0:-1]/rho_max)) + rho_n[1:]\n",
    "    \n",
    "print(rho)"
   ]
  },
  {
   "cell_type": "code",
   "execution_count": 90,
   "metadata": {
    "collapsed": false
   },
   "outputs": [
    {
     "name": "stdout",
     "output_type": "stream",
     "text": [
      "0.05\n"
     ]
    },
    {
     "data": {
      "image/png": "[encoded data removed]",
      "text/plain": [
       "<matplotlib.figure.Figure at 0x7f1c19af71d0>"
      ]
     },
     "metadata": {},
     "output_type": "display_data"
    }
   ],
   "source": [
    "pyplot.figure(figsize=(8,5), dpi=100)\n",
    "pyplot.plot(x, rho, ls='--', lw=3)\n",
    "pyplot.xlim([0,20])\n",
    "pyplot.ylim([0,60]);"
   ]
  },
  {
   "cell_type": "code",
   "execution_count": 93,
   "metadata": {
    "collapsed": false
   },
   "outputs": [
    {
     "name": "stdout",
     "output_type": "stream",
     "text": [
      "Average velocity at t=3min. is 20.636166562014605\n"
     ]
    }
   ],
   "source": [
    "#find average velocity at t= 3 minutes\n",
    "V = Vmax*(1- rho/rho_max)\n",
    "V_ave = numpy.mean(V)/3.6 #units in m/s\n",
    "print(\"Average velocity at t=3min. is {}\".format(V_ave))\n"
   ]
  },
  {
   "cell_type": "code",
   "execution_count": 97,
   "metadata": {
    "collapsed": false
   },
   "outputs": [
    {
     "name": "stdout",
     "output_type": "stream",
     "text": [
      "[ 76.8  76.8  76.8  76.8  76.8  76.8  76.8  76.8  76.8  76.8  76.8  76.8\n",
      "  76.8  76.8  76.8  76.8  76.8  76.8  76.8  76.8  76.8  76.8  76.8  76.8\n",
      "  76.8  76.8  76.8  76.8  76.8  76.8  76.8  76.8  76.8  76.8  76.8  76.8\n",
      "  76.8  76.8  76.8  76.8  76.8  76.8  76.8  76.8  76.8  76.8  76.8  76.8\n",
      "  76.8  76.8  76.8]\n",
      "Min. velocity at t=6 is: 21.333333333333325 m/s\n"
     ]
    },
    {
     "data": {
      "image/png": "[encoded data removed]",
      "text/plain": [
       "<matplotlib.figure.Figure at 0x7f1c19af8b00>"
      ]
     },
     "metadata": {},
     "output_type": "display_data"
    }
   ],
   "source": [
    "rho = rho0\n",
    "#find minimum velocity at t=6 minutes\n",
    "T = 6/60\n",
    "nt = int(T/dt)\n",
    "\n",
    "for n in range(nt):\n",
    "    rho_n = rho.copy()\n",
    "    \n",
    "    rho[0] = 10\n",
    "    rho[1:] = -dt/dx*Vmax*(rho_n[1:]*(1-rho_n[1:]/rho_max) - \\\n",
    "                     rho_n[0:-1]*(1-rho_n[0:-1]/rho_max)) + rho_n[1:]\n",
    "    \n",
    "V = Vmax*(1-rho0/rho_max)\n",
    "vmin = min(V)/3.6 #units in m/s \n",
    "print(V)\n",
    "print(\"Min. velocity at t=6 is: {} m/s\".format(vmin))\n",
    "pyplot.figure(figsize=(8,5), dpi=100)\n",
    "pyplot.plot(x, rho, ls='--', lw=3)\n",
    "pyplot.xlim([0,10])\n",
    "pyplot.ylim([0,60]);"
   ]
  },
  {
   "cell_type": "code",
   "execution_count": 98,
   "metadata": {
    "collapsed": false
   },
   "outputs": [
    {
     "name": "stdout",
     "output_type": "stream",
     "text": [
      "100\n"
     ]
    }
   ],
   "source": [
    "print(nt)"
   ]
  },
  {
   "cell_type": "code",
   "execution_count": null,
   "metadata": {
    "collapsed": false
   },
   "outputs": [],
   "source": []
  },
  {
   "cell_type": "code",
   "execution_count": null,
   "metadata": {
    "collapsed": false
   },
   "outputs": [],
   "source": [
    "a = [10, 15, 20]\n",
    "print(a[-1])\n",
    "print(a[1:-1])"
   ]
  },
  {
   "cell_type": "code",
   "execution_count": null,
   "metadata": {
    "collapsed": false
   },
   "outputs": [],
   "source": [
    "Vmax = 136\n",
    "x = numpy.linspace(0,L,nx)\n",
    "rho0 = numpy.ones(nx)*20 ##note this change\n",
    "rho0[10:20] = 50\n",
    "rho0[0] = 20\n",
    "\n",
    "v0 = Vmax*(1-rho0/rho_max)\n",
    "vmin = min(v0)/3.6 #units in m/s \n",
    "print(\"Min. velocity at t=0 is: {} m/s\".format(vmin))"
   ]
  },
  {
   "cell_type": "code",
   "execution_count": null,
   "metadata": {
    "collapsed": true
   },
   "outputs": [],
   "source": []
  }
 ],
 "metadata": {
  "kernelspec": {
   "display_name": "Python 3",
   "language": "python",
   "name": "python3"
  },
  "language_info": {
   "codemirror_mode": {
    "name": "ipython",
    "version": 3
   },
   "file_extension": ".py",
   "mimetype": "text/x-python",
   "name": "python",
   "nbconvert_exporter": "python",
   "pygments_lexer": "ipython3",
   "version": "3.4.3"
  }
 },
 "nbformat": 4,
 "nbformat_minor": 0
}
