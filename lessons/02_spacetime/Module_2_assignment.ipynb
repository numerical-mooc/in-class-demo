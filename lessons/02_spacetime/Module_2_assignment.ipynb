{
 "cells": [
  {
   "cell_type": "code",
   "execution_count": 2,
   "metadata": {
    "collapsed": true
   },
   "outputs": [],
   "source": [
    "import numpy\n",
    "import sympy\n",
    "from matplotlib import pyplot\n",
    "%matplotlib inline\n",
    "from matplotlib import rcParams\n",
    "rcParams['font.family'] = 'serif'\n",
    "rcParams['font.size'] = 16\n",
    "from sympy import init_printing\n",
    "init_printing()"
   ]
  },
  {
   "cell_type": "code",
   "execution_count": null,
   "metadata": {
    "collapsed": true
   },
   "outputs": [],
   "source": [
    "Vmax = 80\n",
    "L = 11\n",
    "rho_max = 250\n",
    "nx = 51\n",
    "dt = .001 #[hours]\n",
    "dx = L/nx"
   ]
  },
  {
   "cell_type": "code",
   "execution_count": null,
   "metadata": {
    "collapsed": false
   },
   "outputs": [],
   "source": [
    "#Initial Conditions\n",
    "x = numpy.linspace(0, L, nx)\n",
    "rho0 = numpy.ones(nx)*10\n",
    "rho0[10:20] = 50\n",
    "\n",
    "#Boundary Condition\n",
    "rho0[0] = 10"
   ]
  },
  {
   "cell_type": "code",
   "execution_count": null,
   "metadata": {
    "collapsed": false
   },
   "outputs": [],
   "source": [
    "F, V, t = sympy.symbols('F V t')\n",
    "#F = Vmax*rho*(1-rho/rho_max)\n",
    "rho = rho0"
   ]
  },
  {
   "cell_type": "code",
   "execution_count": null,
   "metadata": {
    "collapsed": false
   },
   "outputs": [],
   "source": [
    "v0 = Vmax*(1-rho0/rho_max)\n",
    "vmin = min(v0)/3.6 #units in m/s \n",
    "print(\"Min. velocity at t=0 is: {} m/s\".format(vmin))"
   ]
  },
  {
   "cell_type": "code",
   "execution_count": null,
   "metadata": {
    "collapsed": false
   },
   "outputs": [],
   "source": [
    "#test code, can do one time step at a time.\n",
    "#rho_n = rho0.copy()\n",
    "#test = rho_n\n",
    "#test[0] = 10\n",
    "#test[1:] = -dt/dx*(Vmax*rho_n[1:]*(1-rho_n[1:]/rho_max) - Vmax*rho_n[0:-1]*(1-rho_n[0:-1]/rho_max)) + rho_n[1:]\n",
    "#print(test[0])\n",
    "\n",
    "#pyplot.figure(figsize=(8,5), dpi=100)\n",
    "#pyplot.plot(x, test, ls='--', lw=3)\n",
    "#pyplot.xlim([0,20])\n",
    "#pyplot.ylim([0,60]);"
   ]
  },
  {
   "cell_type": "code",
   "execution_count": null,
   "metadata": {
    "collapsed": false
   },
   "outputs": [],
   "source": [
    "T = 3/60\n",
    "nt = int(T/dt)\n",
    "\n",
    "for n in range(nt):\n",
    "    rho_n = rho.copy()\n",
    "    \n",
    "    rho[0] = 10\n",
    "    rho[1:] = -dt/dx*Vmax*(rho_n[1:]*(1-rho_n[1:]/rho_max) - \\\n",
    "                     rho_n[0:-1]*(1-rho_n[0:-1]/rho_max)) + rho_n[1:]"
   ]
  },
  {
   "cell_type": "code",
   "execution_count": null,
   "metadata": {
    "collapsed": false
   },
   "outputs": [],
   "source": [
    "pyplot.figure(figsize=(8,5), dpi=100)\n",
    "pyplot.plot(x, rho, ls='--', lw=3)\n",
    "pyplot.xlim([0,20])\n",
    "pyplot.ylim([0,60]);"
   ]
  },
  {
   "cell_type": "code",
   "execution_count": null,
   "metadata": {
    "collapsed": false
   },
   "outputs": [],
   "source": [
    "#find average velocity at t= 3 minutes\n",
    "V = Vmax*(1- rho/rho_max)\n",
    "V_ave = numpy.mean(V)/3.6 #units in m/s\n",
    "print(\"Average velocity at t=3min. is {}\".format(V_ave))\n"
   ]
  },
  {
   "cell_type": "code",
   "execution_count": null,
   "metadata": {
    "collapsed": false
   },
   "outputs": [],
   "source": [
    "Vmax = 80\n",
    "L = 11\n",
    "rho_max = 250\n",
    "nx = 101\n",
    "dt = .001 #[hours]\n",
    "dx = L/nx\n",
    "\n",
    "#Initial Conditions\n",
    "x = numpy.linspace(0, L, nx)\n",
    "rho0 = numpy.ones(nx)*10\n",
    "rho0[10:20] = 50\n",
    "\n",
    "#Boundary Condition\n",
    "rho0[0] = 10\n",
    "\n",
    "rho = rho0 #reset rho to initial condition\n",
    "\n",
    "#find minimum velocity at t=6 minutes\n",
    "T = 0.1 # 6 minutes\n",
    "nt = int(T/dt)\n",
    "\n",
    "for n in range(nt):\n",
    "    rho_n = rho.copy()\n",
    "    rho[0] = 10\n",
    "    rho[1:] = -dt/dx*Vmax*(rho_n[1:]*(1-rho_n[1:]/rho_max) - \\\n",
    "                     rho_n[0:-1]*(1-rho_n[0:-1]/rho_max)) + rho_n[1:]\n",
    "    \n",
    "V = Vmax*(1-rho0/rho_max)\n",
    "vmin = min(V)/3.6 #units in m/s \n",
    "#print(V)\n",
    "print(\"Min. velocity at t=6 is: {} m/s\".format(vmin))\n",
    "pyplot.figure(figsize=(8,5), dpi=100)\n",
    "pyplot.plot(x, rho, ls='--', lw=3)\n",
    "pyplot.xlim([0,15])\n",
    "pyplot.ylim([0,60]);"
   ]
  },
  {
   "cell_type": "code",
   "execution_count": 12,
   "metadata": {
    "collapsed": false
   },
   "outputs": [],
   "source": [
    "Vmax = 136\n",
    "L = 11\n",
    "rho_max = 250\n",
    "nx = 51\n",
    "dt = .001 #[hours]\n",
    "dx = L/nx\n",
    "\n",
    "#Initial Conditions\n",
    "x = numpy.linspace(0, L, nx)\n",
    "rho0 = numpy.ones(nx)*10\n",
    "rho0[10:20] = 50\n",
    "\n",
    "#Boundary Condition\n",
    "rho0[0] = 20\n",
    "rho = rho0"
   ]
  },
  {
   "cell_type": "code",
   "execution_count": 13,
   "metadata": {
    "collapsed": false
   },
   "outputs": [
    {
     "name": "stdout",
     "output_type": "stream",
     "text": [
      "Min. velocity at t=0 is: 30.222222222222225 m/s\n"
     ]
    }
   ],
   "source": [
    "v0 = Vmax*(1-rho0/rho_max)\n",
    "vmin = min(v0)/3.6 #units in m/s \n",
    "print(\"Min. velocity at t=0 is: {} m/s\".format(vmin))"
   ]
  },
  {
   "cell_type": "code",
   "execution_count": 14,
   "metadata": {
    "collapsed": false
   },
   "outputs": [
    {
     "name": "stdout",
     "output_type": "stream",
     "text": [
      "Average velocity at t=3min. is 34.25970813456213\n",
      "Minimum velocity at t=3min. is 31.29595736342468\n"
     ]
    },
    {
     "data": {
      "image/png": "[encoded data removed]",
      "text/plain": [
       "<matplotlib.figure.Figure at 0x7fd28d3abe48>"
      ]
     },
     "metadata": {},
     "output_type": "display_data"
    }
   ],
   "source": [
    "T = 3/60\n",
    "nt = int(T/dt)\n",
    "\n",
    "for n in range(nt):\n",
    "    rho_n = rho.copy()\n",
    "    \n",
    "    rho[0] = 20\n",
    "    rho[1:] = -dt/dx*Vmax*(rho_n[1:]*(1-rho_n[1:]/rho_max) - \\\n",
    "                     rho_n[0:-1]*(1-rho_n[0:-1]/rho_max)) + rho_n[1:]\n",
    "\n",
    "pyplot.figure(figsize=(8,5), dpi=100)\n",
    "pyplot.plot(x, rho, ls='--', lw=3)\n",
    "pyplot.xlim([0,20])\n",
    "pyplot.ylim([0,60]);\n",
    "\n",
    "#find average velocity at t= 3 minutes\n",
    "V = Vmax*(1- rho/rho_max)\n",
    "V_ave = numpy.mean(V)/3.6 #units in m/s\n",
    "print(\"Average velocity at t=3min. is {}\".format(V_ave))\n",
    "vmin = min(V)/3.6 #units in m/s \n",
    "print(\"Minimum velocity at t=3min. is {}\".format(vmin))"
   ]
  },
  {
   "cell_type": "code",
   "execution_count": 10,
   "metadata": {
    "collapsed": false
   },
   "outputs": [
    {
     "name": "stdout",
     "output_type": "stream",
     "text": [
      "Min. velocity at t=6 is: 34.611849730763694 m/s\n"
     ]
    },
    {
     "data": {
      "image/png": "[encoded data removed]",
      "text/plain": [
       "<matplotlib.figure.Figure at 0x7fd28d453a58>"
      ]
     },
     "metadata": {},
     "output_type": "display_data"
    }
   ],
   "source": [
    "Vmax = 136\n",
    "L = 11\n",
    "rho_max = 250\n",
    "nx = 51\n",
    "dt = .001 #[hours]\n",
    "dx = L/nx\n",
    "\n",
    "#Initial Conditions\n",
    "x = numpy.linspace(0, L, nx)\n",
    "rho0 = numpy.ones(nx)*20\n",
    "rho0[10:20] = 50\n",
    "\n",
    "#Boundary Condition\n",
    "rho0[0] = 20\n",
    "\n",
    "rho = rho0 #reset rho to initial condition\n",
    "\n",
    "#find minimum velocity at t=6 minutes\n",
    "T = 0.1 # 6 minutes\n",
    "nt = int(T/dt)\n",
    "\n",
    "for n in range(nt):\n",
    "    rho_n = rho.copy()\n",
    "    rho[0] = 20\n",
    "    rho[1:] = -dt/dx*Vmax*(rho_n[1:]*(1-rho_n[1:]/rho_max) - \\\n",
    "                     rho_n[0:-1]*(1-rho_n[0:-1]/rho_max)) + rho_n[1:]\n",
    "    \n",
    "V = Vmax*(1-rho0/rho_max)\n",
    "vmin = min(V)/3.6 #units in m/s \n",
    "print(\"Min. velocity at t=6 is: {} m/s\".format(vmin))\n",
    "pyplot.figure(figsize=(8,5), dpi=100)\n",
    "pyplot.plot(x, rho, ls='--', lw=3)\n",
    "pyplot.xlim([0,15])\n",
    "pyplot.ylim([0,60]);"
   ]
  },
  {
   "cell_type": "code",
   "execution_count": null,
   "metadata": {
    "collapsed": true
   },
   "outputs": [],
   "source": []
  }
 ],
 "metadata": {
  "kernelspec": {
   "display_name": "Python 3",
   "language": "python",
   "name": "python3"
  },
  "language_info": {
   "codemirror_mode": {
    "name": "ipython",
    "version": 3
   },
   "file_extension": ".py",
   "mimetype": "text/x-python",
   "name": "python",
   "nbconvert_exporter": "python",
   "pygments_lexer": "ipython3",
   "version": "3.4.3"
  }
 },
 "nbformat": 4,
 "nbformat_minor": 0
}
