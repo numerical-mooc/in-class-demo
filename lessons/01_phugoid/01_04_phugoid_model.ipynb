{
 "cells": [
  {
   "cell_type": "code",
   "execution_count": 42,
   "metadata": {
    "collapsed": true
   },
   "outputs": [],
   "source": [
    "from math import sin, cos, log\n",
    "import numpy\n",
    "from matplotlib import pyplot\n",
    "%matplotlib inline\n",
    "from matplotlib import rcParams\n",
    "rcParams['font.family']='serif'\n",
    "rcParams['font.size']=16"
   ]
  },
  {
   "cell_type": "code",
   "execution_count": 43,
   "metadata": {
    "collapsed": true
   },
   "outputs": [],
   "source": [
    "#model params:\n",
    "g=9.8 #[m/s^2]\n",
    "v_t = 5.0 #[m/s] trim velocity\n",
    "C_D = 1/5.0 #coeff of drag (D/L when C_L=1)\n",
    "C_L = 1.0 #coeff of lift\n",
    "\n",
    "#ICs\n",
    "v0 = 6.5\n",
    "theta0 = -0.1\n",
    "x0 = 0.0\n",
    "y0 = 2.0"
   ]
  },
  {
   "cell_type": "code",
   "execution_count": 44,
   "metadata": {
    "collapsed": false
   },
   "outputs": [],
   "source": [
    "def f(u):\n",
    "    '''Returns RHS of phugoid system of eqns.\n",
    "    \n",
    "    Parameters:\n",
    "        u: array containing solution at time n\n",
    "        \n",
    "    Returns: \n",
    "        dudt: array containting the RHS given u\n",
    "    '''\n",
    "    \n",
    "    v = u[0]\n",
    "    theta = u[1]\n",
    "    x = u[2]\n",
    "    y = u[3]\n",
    "    #print(v)\n",
    "    return numpy.array([-g*numpy.sin(theta) - C_D/C_L*g/v_t**2*v**2,\n",
    "                       -g*numpy.cos(theta)/v + g/v_t**2*v,\n",
    "                       v*numpy.cos(theta),\n",
    "                       v*numpy.sin(theta)])\n",
    "    \n",
    "def euler(u, f, dt):\n",
    "    '''Returns solution at next time step using Eulers method\n",
    "    \n",
    "    Parameters:\n",
    "        u: soln. at previous time step\n",
    "        f: function\n",
    "        dt\n",
    "        \n",
    "    Returns:\n",
    "        u[n+1] approximate solution at next time step\n",
    "    '''\n",
    "    return u+ dt*f(u)\n",
    "    \n",
    "def get_diffgrid(u_current, u_fine, dt):\n",
    "    '''Returns difference between current grid and finest grid using L-1 norm\n",
    "    \n",
    "    Params:\n",
    "        u_current: soln on current grid\n",
    "        u_finest: soln on the finest grid\n",
    "        dt\n",
    "        \n",
    "    returns:\n",
    "        diffgrid: difference computed in L-1 norm\n",
    "    \n",
    "    '''\n",
    "    \n",
    "    N_current = len(u_current[:,0])\n",
    "    N_fine = len(u_fine[:,0])\n",
    "    \n",
    "    grid_size_ratio = numpy.ceil(N_fine/N_current)\n",
    "    diffgrid = dt*numpy.sum(numpy.abs(u_current[:,2] - u_fine[::grid_size_ratio,2]))\n",
    "    \n",
    "    return diffgrid"
   ]
  },
  {
   "cell_type": "code",
   "execution_count": 45,
   "metadata": {
    "collapsed": true
   },
   "outputs": [],
   "source": [
    "def rk2(u, f, dt):\n",
    "    ''' Returns the solution at next time step using second order RK method\n",
    "    \n",
    "    Parameters: \n",
    "        u: sol. at previous time step\n",
    "        f: funtion to compute RHS of system of eqns.\n",
    "        dt\n",
    "        \n",
    "    Returns:\n",
    "        u(n+1): solution at next time step.\n",
    "    '''\n",
    "    u_star = u + 0.5*dt*f(u)\n",
    "    return u + dt*f(u_star)\n"
   ]
  },
  {
   "cell_type": "code",
   "execution_count": 46,
   "metadata": {
    "collapsed": false
   },
   "outputs": [],
   "source": [
    "#discretize time step\n",
    "T = 15.0\n",
    "dt = 0.01\n",
    "N = int(T/dt) + 1\n",
    "\n",
    "#ICs\n",
    "u_euler = numpy.empty((N,4))\n",
    "u_rk2 = numpy.empty((N,4))\n",
    "\n",
    "#initialize arrays\n",
    "u_euler[0] = numpy.array([v0, theta0, x0, y0])\n",
    "u_rk2[0] = numpy.array([v0, theta0, x0, y0])\n",
    "\n",
    "for n in range(N-1):\n",
    "    u_euler[n+1] = euler(u_euler[n], f, dt)\n",
    "    u_rk2[n+1] = rk2(u_rk2[n], f, dt)"
   ]
  },
  {
   "cell_type": "code",
   "execution_count": 47,
   "metadata": {
    "collapsed": true
   },
   "outputs": [],
   "source": [
    "x_euler = u_euler[:,2]\n",
    "y_euler = u_euler[:,3]\n",
    "x_rk2 = u_rk2[:,2]\n",
    "y_rk2 = u_rk2[:,3]"
   ]
  },
  {
   "cell_type": "code",
   "execution_count": 48,
   "metadata": {
    "collapsed": false
   },
   "outputs": [],
   "source": [
    "idx_negative_euler = numpy.where(y_euler<0.0)[0]\n",
    "if len(idx_negative_euler)==0:\n",
    "    idx_ground_euler = N-1\n",
    "    print('Euler is still running')\n",
    "else:\n",
    "    idx_ground_euler = idx_negative_euler[0]\n",
    "\n",
    "idx_negative_rk2 = numpy.where(y_rk2<0.0)[0]\n",
    "if len(idx_negative_rk2)==0:\n",
    "    idx_ground_rk2 = N-1\n",
    "    print('RK is still running')\n",
    "else:\n",
    "    idx_ground_rk2 = idx_negative_rk2[0]"
   ]
  },
  {
   "cell_type": "code",
   "execution_count": 49,
   "metadata": {
    "collapsed": false
   },
   "outputs": [
    {
     "name": "stdout",
     "output_type": "stream",
     "text": [
      "Are the x-values close? False\n",
      "Are the y-values close? False\n"
     ]
    }
   ],
   "source": [
    "# check to see if the paths match\n",
    "print('Are the x-values close? {}'.format(numpy.allclose(x_euler, x_rk2)))\n",
    "print('Are the y-values close? {}'.format(numpy.allclose(y_euler, y_rk2)))"
   ]
  },
  {
   "cell_type": "code",
   "execution_count": 50,
   "metadata": {
    "collapsed": false
   },
   "outputs": [
    {
     "data": {
      "image/png": "[encoded data removed]",
      "text/plain": [
       "<matplotlib.figure.Figure at 0x7fe0fb7964a8>"
      ]
     },
     "metadata": {},
     "output_type": "display_data"
    }
   ],
   "source": [
    "# plot the glider path\n",
    "pyplot.figure(figsize=(10,6))\n",
    "pyplot.subplot(121)\n",
    "pyplot.grid(True)\n",
    "pyplot.xlabel('$x$')\n",
    "pyplot.ylabel('$y$')\n",
    "pyplot.plot(x_euler[:idx_ground_euler], y_euler[:idx_ground_euler], 'k-', label='Euler')\n",
    "pyplot.plot(x_rk2[:idx_ground_rk2], y_rk2[:idx_ground_rk2], 'r--', label='RK2')\n",
    "pyplot.title('distance traveled: {:.3f}'.format(x_rk2[idx_ground_rk2-1]))\n",
    "pyplot.legend();\n",
    "\n",
    "#zoom in\n",
    "pyplot.subplot(122)\n",
    "pyplot.grid(True)\n",
    "pyplot.xlabel('$x$')\n",
    "pyplot.ylabel('$y$')\n",
    "pyplot.plot(x_euler, y_euler, 'k-', label='Euler')\n",
    "pyplot.plot(x_rk2, y_rk2, 'r--', label='RK2')\n",
    "pyplot.xlim(0,5)\n",
    "pyplot.ylim(1.8,2.5);"
   ]
  },
  {
   "cell_type": "code",
   "execution_count": 51,
   "metadata": {
    "collapsed": false
   },
   "outputs": [],
   "source": [
    "dt_values = numpy.array([0.1, 0.05, 0.01, 0.005, .001])\n",
    "u_values = numpy.empty_like(dt_values, dtype=numpy.ndarray)\n",
    "\n",
    "for i, dt in enumerate(dt_values):\n",
    "    N= int(T/dt)+1\n",
    "    t = numpy.linspace(0.0, T, N)\n",
    "    u = numpy.empty((N,4))\n",
    "    u[0] = numpy.array([v0, theta0, x0, y0])\n",
    "    \n",
    "    for n in range(N-1):\n",
    "        u[n+1] = rk2(u[n], f, dt)\n",
    "    \n",
    "    u_values[i] = u"
   ]
  },
  {
   "cell_type": "code",
   "execution_count": 52,
   "metadata": {
    "collapsed": false
   },
   "outputs": [
    {
     "name": "stderr",
     "output_type": "stream",
     "text": [
      "/opt/anaconda/lib/python3.4/site-packages/ipykernel/__main__.py:51: DeprecationWarning: using a non-integer number instead of an integer will result in an error in the future\n"
     ]
    }
   ],
   "source": [
    "diffgrid = numpy.empty_like(dt_values)\n",
    "for i, dt in enumerate(dt_values):\n",
    "    diffgrid[i] = get_diffgrid(u_values[i], u_values[-1], dt)"
   ]
  },
  {
   "cell_type": "code",
   "execution_count": 53,
   "metadata": {
    "collapsed": false
   },
   "outputs": [
    {
     "data": {
      "image/png": "[encoded data removed]",
      "text/plain": [
       "<matplotlib.figure.Figure at 0x7fe0fb796a90>"
      ]
     },
     "metadata": {},
     "output_type": "display_data"
    }
   ],
   "source": [
    "pyplot.figure(figsize=(6,6))\n",
    "pyplot.grid(True)\n",
    "pyplot.xlabel(r'$\\Delta t$', fontsize=16)\n",
    "pyplot.ylabel(r'$L_1$norm of dgrid differences', fontsize=16)\n",
    "pyplot.xlim(1e-4,2)\n",
    "pyplot.ylim(1e-4,1)\n",
    "pyplot.axis('equal')\n",
    "pyplot.loglog(dt_values[:-1], diffgrid[:-1], ls='--', lw=2, marker='o');"
   ]
  },
  {
   "cell_type": "code",
   "execution_count": 54,
   "metadata": {
    "collapsed": false
   },
   "outputs": [
    {
     "name": "stdout",
     "output_type": "stream",
     "text": [
      "The order of convergence is alpha = 1.984342\n",
      "CPU times: user 734 ms, sys: 16 ms, total: 750 ms\n",
      "Wall time: 709 ms\n"
     ]
    },
    {
     "name": "stderr",
     "output_type": "stream",
     "text": [
      "/opt/anaconda/lib/python3.4/site-packages/ipykernel/__main__.py:51: DeprecationWarning: using a non-integer number instead of an integer will result in an error in the future\n"
     ]
    }
   ],
   "source": [
    "%%time\n",
    "r=2\n",
    "h=.001\n",
    "\n",
    "dt_values = numpy.array([h, r*h, r**2*h])\n",
    "u_values = numpy.empty_like(dt_values, dtype=numpy.ndarray)\n",
    "\n",
    "for i, dt in enumerate(dt_values):\n",
    "    N= int(T/dt)+1\n",
    "    t=numpy.linspace(0.0, T, N)\n",
    "    u = numpy.empty((N,4))\n",
    "    u[0] = numpy.array([v0, theta0, x0, y0])\n",
    "    \n",
    "    for n in range(N-1):\n",
    "        u[n+1] = rk2(u[n], f, dt)\n",
    "        \n",
    "    u_values[i] = u\n",
    "    \n",
    "alpha = (log(get_diffgrid(u_values[2], u_values[1], dt_values[2])) -log(get_diffgrid(u_values[1], u_values[0], dt_values[1])))/log(r)\n",
    "\n",
    "print('The order of convergence is alpha = {:3f}'.format(alpha))"
   ]
  },
  {
   "cell_type": "code",
   "execution_count": 55,
   "metadata": {
    "collapsed": false
   },
   "outputs": [
    {
     "name": "stdout",
     "output_type": "stream",
     "text": [
      "The order of convergence is alpha = 1.029802\n",
      "CPU times: user 420 ms, sys: 12 ms, total: 432 ms\n",
      "Wall time: 403 ms\n"
     ]
    },
    {
     "name": "stderr",
     "output_type": "stream",
     "text": [
      "/opt/anaconda/lib/python3.4/site-packages/ipykernel/__main__.py:51: DeprecationWarning: using a non-integer number instead of an integer will result in an error in the future\n"
     ]
    }
   ],
   "source": [
    "%%time\n",
    "r=2\n",
    "h=.001\n",
    "\n",
    "dt_values = numpy.array([h, r*h, r**2*h])\n",
    "u_values = numpy.empty_like(dt_values, dtype=numpy.ndarray)\n",
    "\n",
    "for i, dt in enumerate(dt_values):\n",
    "    N= int(T/dt)+1\n",
    "    t=numpy.linspace(0.0, T, N)\n",
    "    u = numpy.empty((N,4))\n",
    "    u[0] = numpy.array([v0, theta0, x0, y0])\n",
    "    \n",
    "    for n in range(N-1):\n",
    "        u[n+1] = euler(u[n], f, dt)\n",
    "        \n",
    "    u_values[i] = u\n",
    "    \n",
    "alpha = (log(get_diffgrid(u_values[2], u_values[1], dt_values[2])) -log(get_diffgrid(u_values[1], u_values[0], dt_values[1])))/log(r)\n",
    "\n",
    "print('The order of convergence is alpha = {:3f}'.format(alpha))"
   ]
  },
  {
   "cell_type": "markdown",
   "metadata": {},
   "source": [
    "Challenge Task: timing\n",
    "\n",
    "The second order Runge-Kutta method runs in a total time of 1.2s, while the first order Euler method runs in 0.747s."
   ]
  },
  {
   "cell_type": "code",
   "execution_count": 56,
   "metadata": {
    "collapsed": true
   },
   "outputs": [],
   "source": [
    "def leapfrog(un1, u, f, dt):\n",
    "    \n",
    "    return un1 + 2.0*dt*f(u)\n"
   ]
  },
  {
   "cell_type": "code",
   "execution_count": 57,
   "metadata": {
    "collapsed": false
   },
   "outputs": [],
   "source": [
    "g = 9.8\n",
    "v_t = 5.0\n",
    "C_D = 1/5.0\n",
    "C_L = 1.0\n",
    "#ICs\n",
    "v0 = 6.5\n",
    "theta0 = -0.1\n",
    "x0 = 0.0\n",
    "y0= 2.0\n",
    "\n",
    "T=15.0\n",
    "dt = 0.01\n",
    "N= int(T/dt) +1\n",
    "\n",
    "u_leapfrog = numpy.empty((N,4))\n",
    "u_leapfrog[0] = numpy.array([v0, theta0, x0, y0])\n",
    "\n",
    "u_leapfrog[1] = rk2(u_leapfrog[0], f, dt)"
   ]
  },
  {
   "cell_type": "code",
   "execution_count": 58,
   "metadata": {
    "collapsed": false
   },
   "outputs": [],
   "source": [
    "for n in range(1,N-1):\n",
    "    u_leapfrog[n+1] = leapfrog(u_leapfrog[n-1], u_leapfrog[n], f, dt)"
   ]
  },
  {
   "cell_type": "code",
   "execution_count": 59,
   "metadata": {
    "collapsed": true
   },
   "outputs": [],
   "source": [
    "x_leapfrog = u_leapfrog[:,2]\n",
    "y_leapfrog = u_leapfrog[:,3]\n",
    "\n",
    "idx_negative_leapfrog = numpy.where(y_leapfrog<0.0)[0]\n",
    "\n",
    "if len(idx_negative_leapfrog)==0:\n",
    "    idx_ground_leapfrog= N-1\n",
    "    pring('still running')\n",
    "else:\n",
    "    idx_ground_leapfrog = idx_negative_leapfrog[0]\n",
    "\n"
   ]
  },
  {
   "cell_type": "code",
   "execution_count": 60,
   "metadata": {
    "collapsed": false
   },
   "outputs": [
    {
     "data": {
      "image/png": "[encoded data removed]",
      "text/plain": [
       "<matplotlib.figure.Figure at 0x7fe0fb7c23c8>"
      ]
     },
     "metadata": {},
     "output_type": "display_data"
    }
   ],
   "source": [
    "pyplot.figure(figsize=(11,8))\n",
    "pyplot.subplot(121)\n",
    "pyplot.grid(True)\n",
    "pyplot.xlabel('$x$')\n",
    "pyplot.ylabel('$y$')\n",
    "pyplot.plot(x_leapfrog[:idx_ground_leapfrog], y_leapfrog[:idx_ground_leapfrog], ls='-', lw=2)\n",
    "pyplot.title('distance traveled: {:.3f}'.format(x_leapfrog[idx_ground_leapfrog-1]), fontsize=18);\n",
    "\n",
    "# Let's take a closer look!\n",
    "pyplot.subplot(122)\n",
    "pyplot.grid(True)\n",
    "pyplot.xlabel('$x$')\n",
    "pyplot.ylabel('$y$')\n",
    "pyplot.plot(x_leapfrog[:idx_ground_leapfrog], y_leapfrog[:idx_ground_leapfrog], ls=':', lw=2)\n",
    "pyplot.plot(x_rk2, y_rk2, 'r--', label='RK2')\n",
    "pyplot.xlim(0,5)\n",
    "pyplot.ylim(1.8,2.5);"
   ]
  },
  {
   "cell_type": "code",
   "execution_count": 61,
   "metadata": {
    "collapsed": false
   },
   "outputs": [
    {
     "name": "stderr",
     "output_type": "stream",
     "text": [
      "/opt/anaconda/lib/python3.4/site-packages/ipykernel/__main__.py:16: RuntimeWarning: overflow encountered in double_scalars\n",
      "/opt/anaconda/lib/python3.4/site-packages/ipykernel/__main__.py:16: RuntimeWarning: invalid value encountered in sin\n",
      "/opt/anaconda/lib/python3.4/site-packages/ipykernel/__main__.py:17: RuntimeWarning: invalid value encountered in cos\n",
      "/opt/anaconda/lib/python3.4/site-packages/ipykernel/__main__.py:18: RuntimeWarning: invalid value encountered in cos\n",
      "/opt/anaconda/lib/python3.4/site-packages/ipykernel/__main__.py:19: RuntimeWarning: invalid value encountered in sin\n",
      "/opt/anaconda/lib/python3.4/site-packages/ipykernel/__main__.py:51: DeprecationWarning: using a non-integer number instead of an integer will result in an error in the future\n"
     ]
    },
    {
     "name": "stdout",
     "output_type": "stream",
     "text": [
      "The order of convergence is alpha = nan\n"
     ]
    }
   ],
   "source": [
    "r=2\n",
    "h=.001\n",
    "\n",
    "dt_values = numpy.array([h, r*h, r**2*h])\n",
    "u_values = numpy.empty_like(dt_values, dtype=numpy.ndarray)\n",
    "\n",
    "for i, dt in enumerate(dt_values):\n",
    "    N= int(T/dt)+1\n",
    "    t=numpy.linspace(0.0, T, N)\n",
    "    u = numpy.empty((N,4))\n",
    "    u[0] = numpy.array([v0, theta0, x0, y0])\n",
    "    \n",
    "    u[1] = rk2(u[0], f, dt)\n",
    "    for n in range(N-1):\n",
    "        u[n+1] = leapfrog(u[n-1], u[n], f, dt)\n",
    "        \n",
    "    u_values[i] = u\n",
    "    \n",
    "alpha = (log(get_diffgrid(u_values[2], u_values[1], dt_values[2])) -log(get_diffgrid(u_values[1], u_values[0], dt_values[1])))/log(r)\n",
    "\n",
    "print('The order of convergence is alpha = {:3f}'.format(alpha))"
   ]
  },
  {
   "cell_type": "code",
   "execution_count": null,
   "metadata": {
    "collapsed": false
   },
   "outputs": [],
   "source": []
  }
 ],
 "metadata": {
  "kernelspec": {
   "display_name": "Python 3",
   "language": "python",
   "name": "python3"
  },
  "language_info": {
   "codemirror_mode": {
    "name": "ipython",
    "version": 3
   },
   "file_extension": ".py",
   "mimetype": "text/x-python",
   "name": "python",
   "nbconvert_exporter": "python",
   "pygments_lexer": "ipython3",
   "version": "3.4.3"
  }
 },
 "nbformat": 4,
 "nbformat_minor": 0
}
