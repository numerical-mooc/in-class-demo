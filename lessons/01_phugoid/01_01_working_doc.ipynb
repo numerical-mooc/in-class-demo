{
 "cells": [
  {
   "cell_type": "code",
   "execution_count": 28,
   "metadata": {
    "collapsed": true
   },
   "outputs": [],
   "source": [
    "import numpy\n",
    "from matplotlib import pyplot\n",
    "%matplotlib inline"
   ]
  },
  {
   "cell_type": "code",
   "execution_count": 32,
   "metadata": {
    "collapsed": false
   },
   "outputs": [
    {
     "name": "stdout",
     "output_type": "stream",
     "text": [
      "[  0.00000000e+00   2.00000000e-02   4.00000000e-02 ...,   9.99600000e+01\n",
      "   9.99800000e+01   1.00000000e+02]\n"
     ]
    }
   ],
   "source": [
    "T = 100.0\n",
    "dt = 0.02\n",
    "N = int(T/dt) +1\n",
    "t = numpy.linspace(0.0, T, N)\n",
    "print(t)"
   ]
  },
  {
   "cell_type": "markdown",
   "metadata": {},
   "source": [
    "Challenge 1:\n",
    "    Use arrange() instead of linspace."
   ]
  },
  {
   "cell_type": "code",
   "execution_count": 33,
   "metadata": {
    "collapsed": false
   },
   "outputs": [
    {
     "name": "stdout",
     "output_type": "stream",
     "text": [
      "[  0.00000000e+00   2.00000000e-02   4.00000000e-02 ...,   9.99600000e+01\n",
      "   9.99800000e+01   1.00000000e+02]\n"
     ]
    }
   ],
   "source": [
    "T = 100.0\n",
    "dt = 0.02\n",
    "#N = int(T/dt) +1\n",
    "t = numpy.arange(0.0, T+dt, dt)\n",
    "print(t)"
   ]
  },
  {
   "cell_type": "markdown",
   "metadata": {},
   "source": [
    "Euler's Method"
   ]
  },
  {
   "cell_type": "code",
   "execution_count": 57,
   "metadata": {
    "collapsed": true
   },
   "outputs": [],
   "source": [
    "#ICs\n",
    "z0 = 100 #altitude\n",
    "b0 = 10 #upward velocity resulting from gust\n",
    "zt = 100\n",
    "g = 9.81\n",
    "\n",
    "u= numpy.array([z0, b0])\n",
    "\n",
    "#initialize array for elevation values\n",
    "z = numpy.zeros(N)\n",
    "z[0] = z0"
   ]
  },
  {
   "cell_type": "code",
   "execution_count": 58,
   "metadata": {
    "collapsed": false
   },
   "outputs": [],
   "source": [
    "#time-loop using Euler's method\n",
    "for n in range(1,N):\n",
    "    u = u + dt*numpy.array([u[1], g*1-u[0]/zt])\n",
    "    z[n] = u[0]\n"
   ]
  },
  {
   "cell_type": "code",
   "execution_count": 59,
   "metadata": {
    "collapsed": false
   },
   "outputs": [
    {
     "data": {
      "image/png": "[encoded data removed]",
      "text/plain": [
       "<matplotlib.figure.Figure at 0x7f1087727358>"
      ]
     },
     "metadata": {},
     "output_type": "display_data"
    }
   ],
   "source": [
    "pyplot.figure(figsize=(10,4))\n",
    "pyplot.ylim(40, 160)\n",
    "pyplot.tick_params(axis='both', labelsize=14)\n",
    "pyplot.xlabel('t', fontsize=14)\n",
    "pyplot.ylabel('z', fontsize=14)\n",
    "pyplot.plot(t,z, 'k-');"
   ]
  }
 ],
 "metadata": {
  "kernelspec": {
   "display_name": "Python 3",
   "language": "python",
   "name": "python3"
  },
  "language_info": {
   "codemirror_mode": {
    "name": "ipython",
    "version": 3
   },
   "file_extension": ".py",
   "mimetype": "text/x-python",
   "name": "python",
   "nbconvert_exporter": "python",
   "pygments_lexer": "ipython3",
   "version": "3.4.3"
  }
 },
 "nbformat": 4,
 "nbformat_minor": 0
}
