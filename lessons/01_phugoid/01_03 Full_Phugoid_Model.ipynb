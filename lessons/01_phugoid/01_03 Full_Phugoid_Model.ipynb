{
 "cells": [
  {
   "cell_type": "code",
   "execution_count": 255,
   "metadata": {
    "collapsed": false
   },
   "outputs": [],
   "source": [
    "from math import sin, cos, log, ceil\n",
    "import numpy\n",
    "from matplotlib import pyplot\n",
    "%matplotlib inline\n",
    "from matplotlib import rcParams\n",
    "rcParams['font.family'] = 'serif'\n",
    "rcParams['font.size']=16"
   ]
  },
  {
   "cell_type": "code",
   "execution_count": 256,
   "metadata": {
    "collapsed": true
   },
   "outputs": [],
   "source": [
    "# model parameters:\n",
    "g= 9.8     #[m/s^2]\n",
    "v_t = 20.0 #[m/s] trim velocity\n",
    "C_D = 1/40 #drag coef.\n",
    "C_L = 1    #coefficient of lift\n",
    "\n",
    "#ICs\n",
    "v0 = v_t\n",
    "theta0 = 0\n",
    "x0 = 0\n",
    "y0 = 1000"
   ]
  },
  {
   "cell_type": "code",
   "execution_count": 257,
   "metadata": {
    "collapsed": true
   },
   "outputs": [],
   "source": [
    "def f(u):\n",
    "    \"\"\" Returns RHS of phugoid system of eqns.\n",
    "    parameters: \n",
    "        u - array of float with solution at time n\n",
    "        \n",
    "    returns:\n",
    "        dudt - array of float with solution of RHS given u    \n",
    "    \"\"\"\n",
    "    \n",
    "    v = u[0]\n",
    "    theta = u[1]\n",
    "    x = u[2]\n",
    "    y = u[3]\n",
    "    return numpy.array([-g*sin(theta) - C_D/C_L*g/v_t**2*v**2,\n",
    "                       -g*cos(theta)/v +g/v_t**2*v,\n",
    "                       v*cos(theta),\n",
    "                       v*sin(theta)])"
   ]
  },
  {
   "cell_type": "code",
   "execution_count": 258,
   "metadata": {
    "collapsed": true
   },
   "outputs": [],
   "source": [
    "def euler(u,f,dt):\n",
    "    \"\"\"Euler's method, returns next time step\n",
    "    \n",
    "    u: soln. at previous time step\n",
    "    f: function to compute RHS of system of equations\n",
    "    dt: dt.\n",
    "    \n",
    "    \"\"\"\n",
    "    return u + dt*f(u)"
   ]
  },
  {
   "cell_type": "code",
   "execution_count": 259,
   "metadata": {
    "collapsed": false
   },
   "outputs": [],
   "source": [
    "T = 100 #t_final\n",
    "dt = 0.1\n",
    "N = int(T/dt) + 1\n",
    "t = numpy.linspace(0,T,N)\n",
    "#initialize array\n",
    "u = numpy.empty((N,4))\n",
    "u[0] = numpy.array([v0, theta0, x0, y0]) #ICs\n",
    "\n",
    "#Euler's method\n",
    "for n in range(N-1):\n",
    "    u[n+1] = euler(u[n], f, dt)"
   ]
  },
  {
   "cell_type": "code",
   "execution_count": 260,
   "metadata": {
    "collapsed": true
   },
   "outputs": [],
   "source": [
    "x = u[:,2]\n",
    "y = u[:,3]"
   ]
  },
  {
   "cell_type": "code",
   "execution_count": 261,
   "metadata": {
    "collapsed": false
   },
   "outputs": [
    {
     "data": {
      "image/png": "[encoded data removed]",
      "text/plain": [
       "<matplotlib.figure.Figure at 0x7f1b0858dd68>"
      ]
     },
     "metadata": {},
     "output_type": "display_data"
    }
   ],
   "source": [
    "pyplot.figure(figsize=(8,6))\n",
    "pyplot.grid(True)\n",
    "pyplot.xlabel(r'x', fontsize=18)\n",
    "pyplot.ylabel(r'y', fontsize=18)\n",
    "pyplot.title('Glider trajectory, flight time = %.2f' %T, fontsize=18)\n",
    "pyplot.plot(x,y, lw=2);"
   ]
  },
  {
   "cell_type": "code",
   "execution_count": 262,
   "metadata": {
    "collapsed": false
   },
   "outputs": [],
   "source": [
    "dt_values = numpy.array([0.1, 0.05, 0.01, 0.005, 0.001])\n",
    "u_values = numpy.empty_like(dt_values, dtype=numpy.ndarray)\n",
    "for i, dt in enumerate(dt_values):\n",
    "    N=int(T/dt) + 1\n",
    "    t = numpy.linspace(0.0, T, N)\n",
    "    \n",
    "    #initialize solution array\n",
    "    u = numpy.empty((N,4))\n",
    "    u[0] = numpy.array([v0, theta0, x0, y0])\n",
    "\n",
    "    for n in range(N-1):\n",
    "        u[n+1] = euler(u[n], f, dt)\n",
    "        \n",
    "    u_values[i] = u"
   ]
  },
  {
   "cell_type": "code",
   "execution_count": 263,
   "metadata": {
    "collapsed": true
   },
   "outputs": [],
   "source": [
    "def get_diffgrid(u_current, u_fine, dt):\n",
    "    \"\"\"Returns the difference between one grid and the finest grid using the L1 norm\n",
    "    parameters: \n",
    "        u_current: solution on current grid\n",
    "        u_finest:  solution on fine grid\n",
    "        dt\n",
    "        \n",
    "    returns:\n",
    "        diffgrid: difference computed in L1 norm\n",
    "    \"\"\"\n",
    "    N_current = len(u_current[:,0])\n",
    "    N_fine = len(u_fine[:,0])\n",
    "    \n",
    "    grid_size_ratio = ceil(N_fine/N_current)\n",
    "    diffgrid = dt*numpy.sum(numpy.abs(u_current[:,2]-u_fine[::grid_size_ratio,2]))\n",
    "    \n",
    "    return diffgrid"
   ]
  },
  {
   "cell_type": "code",
   "execution_count": 264,
   "metadata": {
    "collapsed": false
   },
   "outputs": [
    {
     "name": "stdout",
     "output_type": "stream",
     "text": [
      "dt = 0.1\n",
      "dt = 0.05\n",
      "dt = 0.01\n",
      "dt = 0.005\n",
      "dt = 0.001\n"
     ]
    }
   ],
   "source": [
    "diffgrid = numpy.empty_like(dt_values)\n",
    "\n",
    "for i, dt in enumerate(dt_values):\n",
    "    print('dt = {}'.format(dt))\n",
    "    \n",
    "    diffgrid[i] = get_diffgrid(u_values[i], u_values[-1], dt)"
   ]
  },
  {
   "cell_type": "code",
   "execution_count": 265,
   "metadata": {
    "collapsed": false
   },
   "outputs": [
    {
     "data": {
      "image/png": "[encoded data removed]",
      "text/plain": [
       "<matplotlib.figure.Figure at 0x7f1b0806c978>"
      ]
     },
     "metadata": {},
     "output_type": "display_data"
    }
   ],
   "source": [
    "pyplot.figure(figsize=(6,6))\n",
    "pyplot.grid(True)\n",
    "pyplot.xlabel('$\\Delta t$', fontsize=18)\n",
    "pyplot.ylabel('$L_1$-norm of the grid differences', fontsize=18)\n",
    "pyplot.axis('equal')\n",
    "pyplot.loglog(dt_values[:-1], diffgrid[:-1], ls='-', marker='o', lw=2);"
   ]
  },
  {
   "cell_type": "code",
   "execution_count": 266,
   "metadata": {
    "collapsed": false
   },
   "outputs": [
    {
     "name": "stdout",
     "output_type": "stream",
     "text": [
      "The order of convergence is p = 1.029\n"
     ]
    }
   ],
   "source": [
    "\n",
    "\n",
    "r = 2  #what is r?\n",
    "h = 0.001\n",
    "\n",
    "dt_values2 = numpy.array([h, r*h, r**2*h])\n",
    "\n",
    "u_values2 = numpy.empty_like(dt_values2, dtype=numpy.ndarray)\n",
    "\n",
    "diffgrid2 = numpy.empty(2)\n",
    "\n",
    "for i, dt in enumerate(dt_values2):\n",
    "    \n",
    "    N = int(T/dt) + 1   # number of time-steps\n",
    "    \n",
    "    ### discretize the time t ###\n",
    "    t = numpy.linspace(0.0, T, N)\n",
    "    \n",
    "    # initialize the array containing the solution for each time-step\n",
    "    u = numpy.empty((N, 4))\n",
    "    u[0] = numpy.array([v0, theta0, x0, y0])\n",
    "\n",
    "    for n in range(N-1):\n",
    "\n",
    "        u[n+1] = euler(u[n], f, dt)         \n",
    "    \n",
    "    # store the value of u related to one grid\n",
    "    u_values2[i] = u\n",
    "    \n",
    "\n",
    "#calculate f2 - f1\n",
    "diffgrid2[0] = get_diffgrid(u_values2[1], u_values2[0], dt_values2[1])\n",
    "\n",
    "#calculate f3 - f2\n",
    "diffgrid2[1] = get_diffgrid(u_values2[2], u_values2[1], dt_values2[2])\n",
    "\n",
    "# calculate the order of convergence\n",
    "p = (log(diffgrid2[1]) - log(diffgrid2[0])) / log(r)\n",
    "\n",
    "print('The order of convergence is p = {:.3f}'.format(p));"
   ]
  },
  {
   "cell_type": "markdown",
   "metadata": {},
   "source": [
    "Paper Airplane Challenge: \n",
    "  - Find a combination of launch angle and velocity that gives best distance.\n",
    "    "
   ]
  },
  {
   "cell_type": "code",
   "execution_count": 267,
   "metadata": {
    "collapsed": false
   },
   "outputs": [],
   "source": [
    "L_D = 5.0\n",
    "C_D = 1/L_D\n",
    "v_t = 4.9 #[m/s]\n",
    "#ICs\n",
    "theta0 = 0\n",
    "x0 = 0\n",
    "y0 = 2 #[m] - a realistic height to throw a paper airplane from\n",
    "v0 = v_t\n",
    "#height = y0\n",
    "#t = [0]\n",
    "\n",
    "dt = 0.001\n",
    "T=20\n",
    "N = int(T/dt)+1\n",
    "t = numpy.linspace(0,T, N)\n",
    "\n",
    "def challenge(arg1, arg2):\n",
    "    u = numpy.empty((N,4))\n",
    "    u[0] = numpy.array([arg1, arg2, x0, y0])\n",
    "    #print(numpy.shape(u))\n",
    "    #print(N)\n",
    "    for n in range(N-1):\n",
    "        u[n+1] = euler(u[n], f, dt)\n",
    "        n_max = n\n",
    "        if u[n][3] <= 0:\n",
    "            break\n",
    "    #print(numpy.shape(u))\n",
    "    u = u[:n_max]\n",
    "    #print(numpy.shape(u))\n",
    "\n",
    "    return u\n",
    "\n"
   ]
  },
  {
   "cell_type": "code",
   "execution_count": 268,
   "metadata": {
    "collapsed": false
   },
   "outputs": [
    {
     "name": "stdout",
     "output_type": "stream",
     "text": [
      "10.4577277488\n"
     ]
    }
   ],
   "source": [
    "u = challenge(5, 0)\n",
    "print(u[-1][2])"
   ]
  },
  {
   "cell_type": "code",
   "execution_count": 269,
   "metadata": {
    "collapsed": false
   },
   "outputs": [
    {
     "name": "stdout",
     "output_type": "stream",
     "text": [
      "0.635345072227\n",
      "[9, 80]\n"
     ]
    }
   ],
   "source": [
    "#iterate over v0, theta0, taking large steps\n",
    "#find a best solution\n",
    "max_dist = 0.0\n",
    "max_params = [0, 0]\n",
    "for theta0 in range (-90, 90, 5):\n",
    "    for v0 in range (1, 10):\n",
    "        u = numpy.empty((1,4))\n",
    "        u_final = challenge(v0, theta0)\n",
    "        if u_final[-1][2] > max_dist:\n",
    "            max_params_low_res = [v0, theta0]\n",
    "            max_dist_low_res = u_final[-1][2]\n",
    "            best_run_low_res = u_final\n",
    "\n",
    "print(max_dist_low_res)\n",
    "print(max_params_low_res)"
   ]
  },
  {
   "cell_type": "code",
   "execution_count": 270,
   "metadata": {
    "collapsed": false
   },
   "outputs": [
    {
     "name": "stdout",
     "output_type": "stream",
     "text": [
      "17.9958296006\n",
      "[10, 75]\n"
     ]
    }
   ],
   "source": [
    "#iterate at a finer resolution over previous solution\n",
    "max_dist = 0.0 #\n",
    "max_params = [0, 0]\n",
    "for theta0 in range (max_params_low_res[1] -5, max_params_low_res[1] +5):\n",
    "    for v0 in range (max_params_low_res[0] -5, max_params_low_res[0] + 5):\n",
    "        u = numpy.empty((1,4))\n",
    "        u_final = challenge(v0, theta0)\n",
    "        if u_final[-1][2] > max_dist:\n",
    "            max_params= [v0, theta0]\n",
    "            max_dist = u_final[-1][2]\n",
    "            best_run = u_final\n",
    "\n",
    "print(max_dist)\n",
    "print(max_params)"
   ]
  },
  {
   "cell_type": "code",
   "execution_count": 271,
   "metadata": {
    "collapsed": false
   },
   "outputs": [
    {
     "name": "stdout",
     "output_type": "stream",
     "text": [
      "max distance: 18.00 m, v0= 10.00, theta0 = 75.00\n"
     ]
    },
    {
     "data": {
      "image/png": "[encoded data removed]",
      "text/plain": [
       "<matplotlib.figure.Figure at 0x7f1b083f9b00>"
      ]
     },
     "metadata": {},
     "output_type": "display_data"
    }
   ],
   "source": [
    "#print(u_longest)\n",
    "x = best_run[:,2]\n",
    "y = best_run[:,3]\n",
    "pyplot.figure(figsize=(8,6))\n",
    "pyplot.grid(True)\n",
    "pyplot.xlabel(r'x', fontsize=18)\n",
    "pyplot.ylabel(r'y', fontsize=18)\n",
    "pyplot.title('Paper airplane trajectory', fontsize=18)\n",
    "pyplot.plot(x,y, 'k-', lw=2);\n",
    "\n",
    "print(\"max distance: {:.2f} m, v0= {:.2f}, theta0 = {:.2f}\".format(max_dist, max_params[0], max_params[1]))"
   ]
  },
  {
   "cell_type": "code",
   "execution_count": null,
   "metadata": {
    "collapsed": false
   },
   "outputs": [],
   "source": [
    "\n"
   ]
  },
  {
   "cell_type": "code",
   "execution_count": null,
   "metadata": {
    "collapsed": false
   },
   "outputs": [],
   "source": [
    "\n"
   ]
  },
  {
   "cell_type": "code",
   "execution_count": null,
   "metadata": {
    "collapsed": true
   },
   "outputs": [],
   "source": []
  }
 ],
 "metadata": {
  "kernelspec": {
   "display_name": "Python 3",
   "language": "python",
   "name": "python3"
  },
  "language_info": {
   "codemirror_mode": {
    "name": "ipython",
    "version": 3
   },
   "file_extension": ".py",
   "mimetype": "text/x-python",
   "name": "python",
   "nbconvert_exporter": "python",
   "pygments_lexer": "ipython3",
   "version": "3.4.3"
  }
 },
 "nbformat": 4,
 "nbformat_minor": 0
}
