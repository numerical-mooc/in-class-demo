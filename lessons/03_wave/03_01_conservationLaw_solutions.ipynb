{
 "cells": [
  {
   "cell_type": "code",
   "execution_count": 2,
   "metadata": {
    "collapsed": true
   },
   "outputs": [],
   "source": [
    "%matplotlib inline\n",
    "import numpy \n",
    "from matplotlib import pyplot\n",
    "from matplotlib import rcParams\n",
    "rcParams['font.family'] = 'serif'\n",
    "rcParams['font.size'] = 16"
   ]
  },
  {
   "cell_type": "code",
   "execution_count": 3,
   "metadata": {
    "collapsed": true
   },
   "outputs": [],
   "source": [
    "def rho_green_light(nx, rho_max, rho_light):\n",
    "    \"\"\" COmputer 'green light' initial condition with shock and linear distribution\n",
    "        \n",
    "        Parameters:\n",
    "        nx (int)- Number of grid points\n",
    "        rho_max (float) - maximum car density\n",
    "        rho_light (float) - density of cars at stoplight\n",
    "        \n",
    "        Returns:\n",
    "        rho (array of floats) - array with initial values of density\n",
    "    \"\"\"\n",
    "    rho = numpy.arange(nx)*2/nx*rho_light #before stoplight\n",
    "    rho[(nx-1)/2:] = 0\n",
    "    \n",
    "    return rho"
   ]
  },
  {
   "cell_type": "code",
   "execution_count": 4,
   "metadata": {
    "collapsed": false
   },
   "outputs": [
    {
     "name": "stderr",
     "output_type": "stream",
     "text": [
      "/opt/anaconda/lib/python3.4/site-packages/ipykernel/__main__.py:13: DeprecationWarning: using a non-integer number instead of an integer will result in an error in the future\n"
     ]
    }
   ],
   "source": [
    "#Parameters and initial conditions\n",
    "nx = 81\n",
    "nt = 30\n",
    "T= 4.\n",
    "dx = T/(nx-1)\n",
    "\n",
    "x = numpy.linspace(0,T,nx)\n",
    "\n",
    "rho_max = 10.\n",
    "u_max = 1.\n",
    "rho_light = 10.\n",
    "\n",
    "rho = rho_green_light(nx, rho_max, rho_light)"
   ]
  },
  {
   "cell_type": "code",
   "execution_count": 5,
   "metadata": {
    "collapsed": false
   },
   "outputs": [
    {
     "data": {
      "image/png": "[encoded data removed]",
      "text/plain": [
       "<matplotlib.figure.Figure at 0x7f0aa4241748>"
      ]
     },
     "metadata": {},
     "output_type": "display_data"
    }
   ],
   "source": [
    "pyplot.plot(x, rho, ls='--', lw = 3)\n",
    "pyplot.ylabel('Traffic Density')\n",
    "pyplot.xlabel('Distance')\n",
    "pyplot.ylim(-0.5, 12.);\n"
   ]
  },
  {
   "cell_type": "code",
   "execution_count": 6,
   "metadata": {
    "collapsed": true
   },
   "outputs": [],
   "source": [
    "def computeF(u_max, rho__max, rho):\n",
    "    \"\"\"Computes flux F = V*rho\n",
    "    \n",
    "    Parameters:\n",
    "    u_max (float) - Maximum allowed velocity\n",
    "    rho (array of float) - array with density of cars at each x\n",
    "    rho_max (float) - maximum car density\n",
    "    \n",
    "    Returns:\n",
    "    F (array) - Array of Flux at each x. \n",
    "    \"\"\"\n",
    "    return u_max*rho*(1-rho/rho_max)\n",
    "    "
   ]
  },
  {
   "cell_type": "code",
   "execution_count": 7,
   "metadata": {
    "collapsed": false
   },
   "outputs": [],
   "source": [
    "def ftbs(rho, nt, dt, dx, rho_max, u_max):\n",
    "    \"\"\"Forward time, backward space discretized solution for traffic problem\n",
    "    Parameters:\n",
    "        rho (array of float) - density at current time step\n",
    "        nt (int) - number of time steps\n",
    "        dt (float) - time step size\n",
    "        dx (float) - space step size\n",
    "        rho_max(float) - max car density\n",
    "        u_max (float) - max velocity\n",
    "        \n",
    "    Returns:\n",
    "        rho_n (array of float) - density after nt steps at each x.\n",
    "    \"\"\"\n",
    "    \n",
    "    #initialiaze results\n",
    "    rho_n = numpy.zeros((nt, len(rho)))\n",
    "    rho_n[0,:] = rho.copy()\n",
    "    \n",
    "    for t in range(1, nt):\n",
    "        F = computeF(u_max, rho_max, rho)\n",
    "        rho_n[t, 1:] = rho[1:] - dt/dx*(F[1:] - F[:-1])\n",
    "        rho_n[t, 0] = rho[0] #boundary conditions\n",
    "        rho_n[t, -1] = rho[-1]\n",
    "        rho = rho_n[t].copy()\n",
    "        \n",
    "    return rho_n"
   ]
  },
  {
   "cell_type": "code",
   "execution_count": 8,
   "metadata": {
    "collapsed": false
   },
   "outputs": [],
   "source": [
    "sigma = 1.\n",
    "dt = sigma*dx\n",
    "\n",
    "rho_n = ftbs(rho, nt, dt, dx, rho_max, u_max)"
   ]
  },
  {
   "cell_type": "code",
   "execution_count": 9,
   "metadata": {
    "collapsed": false
   },
   "outputs": [
    {
     "ename": "ImportError",
     "evalue": "No module named 'JSAnimation'",
     "output_type": "error",
     "traceback": [
      "\u001b[1;31m---------------------------------------------------------------------------\u001b[0m",
      "\u001b[1;31mImportError\u001b[0m                               Traceback (most recent call last)",
      "\u001b[1;32m<ipython-input-9-858b14c47ec7>\u001b[0m in \u001b[0;36m<module>\u001b[1;34m()\u001b[0m\n\u001b[0;32m      1\u001b[0m \u001b[1;32mfrom\u001b[0m \u001b[0mmatplotlib\u001b[0m \u001b[1;32mimport\u001b[0m \u001b[0manimation\u001b[0m\u001b[1;33m\u001b[0m\u001b[0m\n\u001b[1;32m----> 2\u001b[1;33m \u001b[1;32mfrom\u001b[0m \u001b[0mJSAnimation\u001b[0m\u001b[1;33m.\u001b[0m\u001b[0mIPython_display\u001b[0m \u001b[1;32mimport\u001b[0m \u001b[0mdisplay_animation\u001b[0m\u001b[1;33m\u001b[0m\u001b[0m\n\u001b[0m",
      "\u001b[1;31mImportError\u001b[0m: No module named 'JSAnimation'"
     ]
    }
   ],
   "source": [
    "from matplotlib import animation\n",
    "from JSAnimation.IPython_display import display_animation"
   ]
  },
  {
   "cell_type": "code",
   "execution_count": null,
   "metadata": {
    "collapsed": false
   },
   "outputs": [],
   "source": [
    "fig = pyplot.figure();\n",
    "ax = pyplot.axes(xlim=(0,4), ylim = (-.5, 11.5), xlabel=('Distance'), ylabel=('Traffic Density'));\n",
    "line, = ax.plot([], [], lw = 2);\n",
    "\n",
    "def animate(data):\n",
    "    x = numpy.linspace(0,4,nx)\n",
    "    y = data\n",
    "    line.set_data(x,y)\n",
    "    return line,\n",
    "anim = animation.FuncAnimation(fig, animate, frames=rho_n, interval=50)\n",
    "display_animation(anim, default_mode='once')"
   ]
  },
  {
   "cell_type": "code",
   "execution_count": null,
   "metadata": {
    "collapsed": false
   },
   "outputs": [],
   "source": [
    "rho_light = 5\n",
    "nt = 40\n",
    "rho = rho_green_light(nx, rho_max, rho_light)\n",
    "rho_n = ftbs(rho, nt, dt, dx, rho_max, u_max)\n",
    "\n",
    "anim = animation.FuncAnimation(fig, animate, frames=rho_n, interval=50)\n",
    "display_animation(anim, default_mode='once')"
   ]
  },
  {
   "cell_type": "code",
   "execution_count": null,
   "metadata": {
    "collapsed": false
   },
   "outputs": [],
   "source": [
    "rho_light = 4\n",
    "u_max = 1.1\n",
    "nt = 40\n",
    "rho = rho_green_light(nx, rho_max, rho_light)\n",
    "rho_n = ftbs(rho, nt, dt, dx, rho_max, u_max)\n",
    "\n",
    "anim = animation.FuncAnimation(fig,animate, frames=rho_n, interval=50)\n",
    "display_animation(anim, default_mode='once')"
   ]
  },
  {
   "cell_type": "code",
   "execution_count": null,
   "metadata": {
    "collapsed": true
   },
   "outputs": [],
   "source": []
  }
 ],
 "metadata": {
  "kernelspec": {
   "display_name": "Python 3",
   "language": "python",
   "name": "python3"
  },
  "language_info": {
   "codemirror_mode": {
    "name": "ipython",
    "version": 3
   },
   "file_extension": ".py",
   "mimetype": "text/x-python",
   "name": "python",
   "nbconvert_exporter": "python",
   "pygments_lexer": "ipython3",
   "version": "3.4.3"
  }
 },
 "nbformat": 4,
 "nbformat_minor": 0
}
