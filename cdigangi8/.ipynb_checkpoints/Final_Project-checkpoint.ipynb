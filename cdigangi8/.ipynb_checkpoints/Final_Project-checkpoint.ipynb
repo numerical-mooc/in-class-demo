{
 "cells": [
  {
   "cell_type": "markdown",
   "metadata": {},
   "source": [
    "$S$: Susceptibles\n",
    "\n",
    "$I$: Infectives\n",
    "\n",
    "$R$: Recovered with Immunity\n",
    "\n",
    "$\\beta$: Contact Rate\n",
    "\n",
    "$\\mu$: Average Death Rate\n",
    "\n",
    "$B$: Average Birth Rate\n",
    "\n",
    "$\\frac{1}{\\epsilon}$: Average Latent Period\n",
    "\n",
    "$\\frac{1}{\\gamma}$: Average infectious period\n",
    "\n",
    "$R_0$: Basic Reporoduction Number\n",
    "\n",
    "$N$: Total Population\n",
    "\n",
    "\n",
    "$$\\frac{dS}{dt} = (1-ep) \\mu N_{unvaccinated \\ births} - \\beta IS_{infections} - \\mu S_{deaths}$$\n",
    "\n",
    "$$\\frac{dV}{dt} = ep \\mu N_{vaccinated births} - \\mu V_{deaths}$$\n",
    "\n",
    "$$\\frac{dI}{dt} = \\beta IS_{infections} - \\gamma I_{recoveries} - \\mu I_{deaths}$$\n",
    "\n",
    "$$\\frac{dR}{dt} = \\gamma I_{recoveries} - \\mu R_{deaths}$$"
   ]
  },
  {
   "cell_type": "markdown",
   "metadata": {},
   "source": [
    "where p is a fraction of the newly born individuals that are vaccinated at birth\n",
    "\n",
    "the vaccination takes in a fraction e of the vaccinated individuals and protects them for an average period $\\frac{1}{\\omega}$ years"
   ]
  },
  {
   "cell_type": "code",
   "execution_count": 38,
   "metadata": {
    "collapsed": false
   },
   "outputs": [],
   "source": [
    "%matplotlib inline\n",
    "import numpy \n",
    "from matplotlib import pyplot\n",
    "from matplotlib import rcParams\n",
    "rcParams['font.family'] = 'serif'\n",
    "rcParams['font.size'] = 16\n",
    "\n",
    "#Statistics from cia world factbook\n",
    "\n",
    "e = .5\n",
    "p = .75\n",
    "mu = .00815\n",
    "N = 321368864 #As of Jul 2015 estimate\n",
    "beta = .75\n",
    "gamma = .5\n",
    "\n",
    "S0 = N\n",
    "V0 = .5*N\n",
    "I0 = .75*N\n",
    "R0 = .25*N\n",
    "\n",
    "#S[i] = (1-e*p)*mu*N - beta*I[i-1]*S[i-1] - mu*S[i-1]\n",
    "#V[i] = e*p*mu*N - mu*V[i-1]\n",
    "#I[i] = beta*I[i-1]*S[i-1] - gamma*I[i-1] - mu*I[i-1]\n",
    "#R[i] = gamma*I[i-1] - mu*R[i-1]"
   ]
  },
  {
   "cell_type": "code",
   "execution_count": 39,
   "metadata": {
    "collapsed": false
   },
   "outputs": [],
   "source": [
    "def f(u):\n",
    "    \n",
    "    S = u[0]\n",
    "    V = u[1]\n",
    "    I = u[2]\n",
    "    R = u[3]\n",
    "    \n",
    "    return numpy.array([(1-e*p)*mu*N - beta*I*S - mu*S,\n",
    "                       e*p*mu*N - mu*V,\n",
    "                       beta*I*S - gamma*I - mu*I,\n",
    "                       gamma*I - mu*R])"
   ]
  },
  {
   "cell_type": "code",
   "execution_count": 40,
   "metadata": {
    "collapsed": true
   },
   "outputs": [],
   "source": [
    "def euler_step(u, f, dt):\n",
    "    return u + dt * f(u)"
   ]
  },
  {
   "cell_type": "code",
   "execution_count": 41,
   "metadata": {
    "collapsed": false
   },
   "outputs": [
    {
     "name": "stderr",
     "output_type": "stream",
     "text": [
      "//anaconda/lib/python3.4/site-packages/ipykernel/__main__.py:8: RuntimeWarning: overflow encountered in double_scalars\n",
      "//anaconda/lib/python3.4/site-packages/ipykernel/__main__.py:10: RuntimeWarning: overflow encountered in double_scalars\n",
      "//anaconda/lib/python3.4/site-packages/ipykernel/__main__.py:8: RuntimeWarning: invalid value encountered in double_scalars\n",
      "//anaconda/lib/python3.4/site-packages/ipykernel/__main__.py:10: RuntimeWarning: invalid value encountered in double_scalars\n"
     ]
    }
   ],
   "source": [
    "T = 365\n",
    "dt = 1\n",
    "N = int(T/dt)+1\n",
    "t = numpy.linspace(0, T, N)\n",
    "\n",
    "u = numpy.zeros((N,4))\n",
    "u[0] = [S0, V0, I0, R0]\n",
    "\n",
    "for n in range(N-1):\n",
    "    u[n+1] = euler_step(u[n], f, dt)\n",
    "    \n"
   ]
  },
  {
   "cell_type": "code",
   "execution_count": 44,
   "metadata": {
    "collapsed": false
   },
   "outputs": [
    {
     "data": {
      "text/plain": [
       "[<matplotlib.lines.Line2D at 0x107af0e10>]"
      ]
     },
     "execution_count": 44,
     "metadata": {},
     "output_type": "execute_result"
    },
    {
     "data": {
      "image/png": "[encoded data removed]",
      "text/plain": [
       "<matplotlib.figure.Figure at 0x10732ae10>"
      ]
     },
     "metadata": {},
     "output_type": "display_data"
    }
   ],
   "source": [
    "pyplot.figure(figsize=(8,6))\n",
    "pyplot.grid(True)\n",
    "pyplot.xlabel(r'x', fontsize=18)\n",
    "pyplot.ylabel(r'y', fontsize=18)\n",
    "pyplot.title('TBD', fontsize=18)\n",
    "pyplot.plot(t,u[:,0], 'k-', lw=2);\n",
    "#pyplot.plot(t,u[:,1], 'k-', lw=2);\n",
    "#pyplot.plot(t,u[:,1], 'k-', lw=2);\n",
    "#pyplot.plot(t,u[:,1], 'k-', lw=2);"
   ]
  },
  {
   "cell_type": "code",
   "execution_count": null,
   "metadata": {
    "collapsed": true
   },
   "outputs": [],
   "source": []
  }
 ],
 "metadata": {
  "kernelspec": {
   "display_name": "Python 3",
   "language": "python",
   "name": "python3"
  },
  "language_info": {
   "codemirror_mode": {
    "name": "ipython",
    "version": 3
   },
   "file_extension": ".py",
   "mimetype": "text/x-python",
   "name": "python",
   "nbconvert_exporter": "python",
   "pygments_lexer": "ipython3",
   "version": "3.4.3"
  }
 },
 "nbformat": 4,
 "nbformat_minor": 0
}
