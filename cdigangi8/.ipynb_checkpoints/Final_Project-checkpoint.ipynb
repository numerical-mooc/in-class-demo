{
 "cells": [
  {
   "cell_type": "markdown",
   "metadata": {},
   "source": [
    "$S$: Susceptibles\n",
    "\n",
    "$I$: Infectives\n",
    "\n",
    "$R$: Recovered with Immunity\n",
    "\n",
    "$\\beta$: Contact Rate\n",
    "\n",
    "$\\mu$: Average Death Rate\n",
    "\n",
    "$B$: Average Birth Rate\n",
    "\n",
    "$\\frac{1}{\\epsilon}$: Average Latent Period\n",
    "\n",
    "$\\frac{1}{\\gamma}$: Average infectious period\n",
    "\n",
    "$R_0$: Basic Reporoduction Number\n",
    "\n",
    "$N$: Total Population\n",
    "\n",
    "\n",
    "$$\\frac{dS}{dt} = (1-ep) \\mu N_{unvaccinated \\ births} - \\beta IS_{infections} - \\mu S_{deaths}$$\n",
    "\n",
    "$$\\frac{dV}{dt} = ep \\mu N_{vaccinated births} - \\mu V_{deaths}$$\n",
    "\n",
    "$$\\frac{dI}{dt} = \\beta IS_{infections} - \\gamma I_{recoveries} - \\mu I_{deaths}$$\n",
    "\n",
    "$$\\frac{dR}{dt} = \\gamma I_{recoveries} - \\mu R_{deaths}$$"
   ]
  },
  {
   "cell_type": "markdown",
   "metadata": {},
   "source": [
    "where p is a fraction of the newly born individuals that are vaccinated at birth\n",
    "\n",
    "the vaccination takes in a fraction e of the vaccinated individuals and protects them for an average period $\\frac{1}{\\omega}$ years"
   ]
  },
  {
   "cell_type": "code",
   "execution_count": 1,
   "metadata": {
    "collapsed": false
   },
   "outputs": [
    {
     "ename": "SyntaxError",
     "evalue": "invalid syntax (<ipython-input-1-d52adfbeb6a5>, line 10)",
     "output_type": "error",
     "traceback": [
      "\u001b[0;36m  File \u001b[0;32m\"<ipython-input-1-d52adfbeb6a5>\"\u001b[0;36m, line \u001b[0;32m10\u001b[0m\n\u001b[0;31m    e =\u001b[0m\n\u001b[0m        ^\u001b[0m\n\u001b[0;31mSyntaxError\u001b[0m\u001b[0;31m:\u001b[0m invalid syntax\n"
     ]
    }
   ],
   "source": [
    "%matplotlib inline\n",
    "import numpy \n",
    "from matplotlib import pyplot\n",
    "from matplotlib import rcParams\n",
    "rcParams['font.family'] = 'serif'\n",
    "rcParams['font.size'] = 16\n",
    "\n",
    "#Statistics from cia world factbook\n",
    "\n",
    "e = .5\n",
    "p = .5\n",
    "mu = .00815\n",
    "N = 321368864 #As of Jul 2015 estimate\n",
    "beta = .75\n",
    "gamma = 26\n",
    "\n",
    "\n",
    "S[i] = (1-e*p)*mu*N - beta*I[i-1]*S[i-1] - mu*S[i-1]\n",
    "V[i] = e*p*mu*N - mu*V[i-1]\n",
    "I[i] = beta*I[i-1]*S[i-1] - gamma*I[i-1] - mu*I[i-1]\n",
    "R[i] = gamma*I[i-1] - mu*R[i-1]"
   ]
  },
  {
   "cell_type": "code",
   "execution_count": null,
   "metadata": {
    "collapsed": false
   },
   "outputs": [],
   "source": []
  },
  {
   "cell_type": "code",
   "execution_count": null,
   "metadata": {
    "collapsed": true
   },
   "outputs": [],
   "source": []
  }
 ],
 "metadata": {
  "kernelspec": {
   "display_name": "Python 3",
   "language": "python",
   "name": "python3"
  },
  "language_info": {
   "codemirror_mode": {
    "name": "ipython",
    "version": 3
   },
   "file_extension": ".py",
   "mimetype": "text/x-python",
   "name": "python",
   "nbconvert_exporter": "python",
   "pygments_lexer": "ipython3",
   "version": "3.4.3"
  }
 },
 "nbformat": 4,
 "nbformat_minor": 0
}
