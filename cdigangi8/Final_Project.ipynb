{
 "cells": [
  {
   "cell_type": "markdown",
   "metadata": {},
   "source": [
    "# Managing Epidemics Through Mathematical Modeling"
   ]
  },
  {
   "cell_type": "markdown",
   "metadata": {},
   "source": [
    "This lesson will examine the spread of an epidemic over time using Euler's method. The model is a system of non-linear ODEs which is based on the classic Susceptible, Infected, Recovered (SIR) model. This model introduces a new parameter  to include vaccinations. We will examine the various paremeters of the model and define conditions necessary to erradicate the epidemic.\n",
    "\n",
    "In this module we will also introduce ipywigets, an IPython library that allows you to add widgets to your notebooks and make them interactive! We will be using widgets to vary our parameters and see how changing different parameters affects the results of the model. This is a great technique for making quick and easy comparisons because you don't have to re-run your cell for the widget to make changes to the graph. "
   ]
  },
  {
   "cell_type": "markdown",
   "metadata": {},
   "source": [
    "## Introducing Model Parameters"
   ]
  },
  {
   "cell_type": "markdown",
   "metadata": {},
   "source": [
    "The most important part of understanding any model is understanding the nomenclature that is associated with it. Please review the below terms carefully and make sure you understand what each parameter represents.\n",
    "\n",
    "$S$: Susceptible Individuals\n",
    "\n",
    "$V$: Vaccinated Individuals\n",
    "\n",
    "$I$: Infected Individuals\n",
    "\n",
    "$R$: Recovered Individuals with Immunity (Cannot get infected again)\n",
    "\n",
    "$p$: Fraction of individuals who are vaccinated at birth \n",
    "\n",
    "$e$: Fraction of the vaccinated individuals that are successfully vaccinated\n",
    "\n",
    "$\\mu$: Average Death Rate\n",
    "\n",
    "$\\beta$: Contact Rate (Rate at which Susceptibles come into contact with Infected)\n",
    "\n",
    "$\\gamma$: Recovery Rate\n",
    "\n",
    "$R_0$: Basic Reporoduction Number\n",
    "\n",
    "$N$: Total Population ($S + V + I + R$)\n"
   ]
  },
  {
   "cell_type": "markdown",
   "metadata": {},
   "source": [
    "## Basic SVIR Model"
   ]
  },
  {
   "cell_type": "markdown",
   "metadata": {},
   "source": [
    "### Susceptible Equation\n",
    "Let's examine the model by component. First we will breakdown the susceptible individuals. In order to find the rate of change of susceptible individuls we must calculate the number of newborns that are not vaccinated:\n",
    "\n",
    "$$(1-ep) \\mu N$$\n",
    "\n",
    "The number of Susceptible Individuals that become infected:\n",
    "\n",
    "$$ \\beta IS_{infections}$$\n",
    "\n",
    "and finally the number of Susceptibles that die:\n",
    "\n",
    "$$ \\mu S_{deaths}$$\n",
    "\n",
    "Therefore the change in Susceptible Indivduals becomes:\n",
    "\n",
    "$$\\frac{dS}{dt} = (1-ep) \\mu N - \\beta IS - \\mu S$$\n"
   ]
  },
  {
   "cell_type": "markdown",
   "metadata": {},
   "source": [
    "### Vaccinated Equation\n",
    "\n",
    "Now examining the vaccinated individuals we start with the newborns that are vaccinated:\n",
    "\n",
    "$$ep \\mu N$$\n",
    "\n",
    "And the number of vaccinated individuals that die:\n",
    "\n",
    "$$\\mu V$$\n",
    "\n",
    "The change in vaccinated individuals becomes:\n",
    "\n",
    "$$\\frac{dV}{dt} = ep \\mu N - \\mu V$$"
   ]
  },
  {
   "cell_type": "markdown",
   "metadata": {},
   "source": [
    "### Infected Equation\n",
    "\n",
    "For the infected individuals we start with the number of Susceptible individuals that are exposed and become infected:\n",
    "\n",
    "$$\\beta IS_{infections}$$\n",
    "\n",
    "Next we need the number of Infected individuals that recovered:\n",
    "\n",
    "$$\\gamma I_{recoveries}$$\n",
    "\n",
    "Finally we examine the infected who die:\n",
    "\n",
    "$$\\mu I_{deaths}$$\n",
    "\n",
    "Putting this all together we get the following equation:\n",
    "\n",
    "$$\\frac{dI}{dt} = \\beta IS - \\gamma I - \\mu I$$"
   ]
  },
  {
   "cell_type": "markdown",
   "metadata": {},
   "source": [
    "### Recovered Equation\n",
    "\n",
    "The number of recovered individuals first relies on the infected who recover:\n",
    "\n",
    "$$\\gamma I$$\n",
    "\n",
    "Next it depeds on the recovered individuals who die:\n",
    "\n",
    "$$\\mu R$$\n",
    "\n",
    "Putting this together yeilds the equation:\n",
    "\n",
    "$$\\frac{dR}{dt} = \\gamma I - \\mu R$$"
   ]
  },
  {
   "cell_type": "markdown",
   "metadata": {},
   "source": [
    "## Model Summary and Assumptions\n",
    "\n",
    "The complete model is as follows:\n",
    "\n",
    "$$\\frac{dS}{dt} = (1-ep) \\mu N - \\beta IS - \\mu S$$\n",
    "\n",
    "$$\\frac{dV}{dt} = ep \\mu N - \\mu V$$\n",
    "\n",
    "$$\\frac{dI}{dt} = \\beta IS - \\gamma I - \\mu I$$\n",
    "\n",
    "$$\\frac{dR}{dt} = \\gamma I - \\mu R$$\n",
    "\n",
    "This is a very simplified model because of the complexities of infectious diseases. The model makes the following assumptions:\n",
    "\n",
    "- The population N is held constant\n",
    "- The birth rate and death rate are equal\n",
    "- The death rate is the same across all individuals (Infected do not have higher death rate)\n",
    "- A susceptible individual that comes in contact with an infected automatically becomes infected\n",
    "- Once an individual has recovered they are forever immune and not reintroduced into the susceptible population\n",
    "- Vaccination does not wear off (vaccinated cannot become infected)\n"
   ]
  },
  {
   "cell_type": "markdown",
   "metadata": {},
   "source": [
    "## Implementing Numerical Solution with Euler!\n",
    "\n",
    "For the numerical solution we will be using Euler's method since we are only dealing with time derivatives. Just to review, for Euler's method we replace the time derivative by the following:\n",
    "\n",
    "$$\\frac{dS}{dt} = \\frac{S^{n+1} - S^n}{\\Delta t}$$\n",
    "\n",
    "where n represents the discretized time.\n",
    "\n",
    "Therefore after we discretize our model we have:\n",
    "\n",
    "$$\\frac{S^{n+1} - S^n}{\\Delta t} = (1-ep) \\mu N - \\beta IS^n - \\mu S^n$$\n",
    "\n",
    "$$\\frac{V^{n+1} - V^n}{\\Delta t} = ep \\mu N - \\mu V^n$$\n",
    "\n",
    "$$\\frac{I^{n+1} - I^n}{\\Delta t} = \\beta I^nS^n - \\gamma I^n - \\mu I^n$$\n",
    "\n",
    "$$\\frac{R^{n+1} - R^n}{\\Delta t} = \\gamma I^n - \\mu R^n$$\n",
    "\n",
    "And now solving for the value at the next time step yeilds:\n",
    "\n",
    "$$S^{n+1}  = S^n + \\Delta t \\left((1-ep) \\mu N - \\beta IS^n - \\mu S^n \\right)$$\n",
    "\n",
    "$$V^{n+1} = V^n +  \\Delta t ( ep \\mu N - \\mu V^n)$$\n",
    "\n",
    "$$I^{n+1} = I^n + \\Delta t (\\beta I^nS^n - \\gamma I^n - \\mu I^n)$$\n",
    "\n",
    "$$R^{n+1}  = R^n + \\Delta t ( \\gamma I^n - \\mu R^n)$$"
   ]
  },
  {
   "cell_type": "markdown",
   "metadata": {},
   "source": [
    "If we want to implement this into our code we can build arrays to hold our system of equations. Assuming u is our solution matrix and f(u) is our right hand side:\n",
    "\n",
    "\\begin{align}\n",
    "u & = \\begin{pmatrix} S \\\\ V \\\\ I \\\\ R \\end{pmatrix} & f(u) & = \\begin{pmatrix} S^n + \\Delta t \\left((1-ep) \\mu N - \\beta IS^n - \\mu S^n \\right) \\\\ V^n +  \\Delta t ( ep \\mu N - \\mu V^n) \\\\ I^n + \\Delta t (\\beta I^nS^n - \\gamma I^n - \\mu I^n) \\\\ R^n + \\Delta t ( \\gamma I^n - \\mu R^n) \\end{pmatrix}.\n",
    "\\end{align}"
   ]
  },
  {
   "cell_type": "markdown",
   "metadata": {},
   "source": [
    "## Solve!\n",
    "\n",
    "Now we will implement this solution below. First we will import the necessary python libraries"
   ]
  },
  {
   "cell_type": "code",
   "execution_count": 326,
   "metadata": {
    "collapsed": true
   },
   "outputs": [],
   "source": [
    "%matplotlib inline\n",
    "import numpy \n",
    "from matplotlib import pyplot\n",
    "from matplotlib import rcParams\n",
    "rcParams['font.family'] = 'serif'\n",
    "rcParams['font.size'] = 16"
   ]
  },
  {
   "cell_type": "markdown",
   "metadata": {},
   "source": [
    "Let us first define our function f(u) that will calculate the right hand side of our model:"
   ]
  },
  {
   "cell_type": "code",
   "execution_count": 327,
   "metadata": {
    "collapsed": true
   },
   "outputs": [],
   "source": [
    "def f(u):\n",
    "    \"\"\"Returns the right-hand side of the epidemic model equations.\n",
    "    \n",
    "    Parameters\n",
    "    ----------\n",
    "    u : array of float\n",
    "        array containing the solution at time n.\n",
    "        u is passed in and distributed to the different components by calling the individual value in u[i]\n",
    "        \n",
    "    Returns\n",
    "    -------\n",
    "    du/dt : array of float\n",
    "        array containing the RHS given u.\n",
    "    \"\"\"\n",
    "    \n",
    "    S = u[0]\n",
    "    V = u[1]\n",
    "    I = u[2]\n",
    "    R = u[3]\n",
    "    \n",
    "    return numpy.array([(1-e*p)*mu*N - beta*I*S - mu*S,\n",
    "                       e*p*mu*N - mu*V,\n",
    "                       beta*I*S - gamma*I - mu*I,\n",
    "                       gamma*I - mu*R])"
   ]
  },
  {
   "cell_type": "markdown",
   "metadata": {},
   "source": [
    "Next we will define the euler solution as a function so that we can call it as we iterate through time."
   ]
  },
  {
   "cell_type": "code",
   "execution_count": 328,
   "metadata": {
    "collapsed": false
   },
   "outputs": [],
   "source": [
    "def euler_step(u, f, dt):\n",
    "    \n",
    "    \"\"\"Returns the solution at the next time-step using Euler's method.\n",
    "    \n",
    "    Parameters\n",
    "    ----------\n",
    "    u : array of float\n",
    "        solution at the previous time-step.\n",
    "    f : function\n",
    "        function to compute the right hand-side of the system of equation.\n",
    "    dt : float\n",
    "        time-increment.\n",
    "    \n",
    "    Returns\n",
    "    -------\n",
    "        approximate solution at the next time step.\n",
    "    \"\"\"\n",
    "    \n",
    "    return u + dt * f(u)"
   ]
  },
  {
   "cell_type": "markdown",
   "metadata": {
    "collapsed": false
   },
   "source": [
    "Now we are ready to set up our initial conditions and solve! We will use a simplified population to start with."
   ]
  },
  {
   "cell_type": "code",
   "execution_count": 329,
   "metadata": {
    "collapsed": true
   },
   "outputs": [],
   "source": [
    "e = .1 #vaccination success rate\n",
    "p = .75 # newborn vaccination rate\n",
    "mu = .02 # death rate\n",
    "beta = .002 # contact rate\n",
    "gamma = .5 # Recovery rate\n",
    "\n",
    "S0 = 100 # Initial Susceptibles\n",
    "V0 = 50 # Initial Vaccinated\n",
    "I0 = 75 # Initial Infected\n",
    "R0 = 10 # Initial Recovered\n",
    "\n",
    "N = S0 + I0 + R0 + V0 #Total population (remains constant)"
   ]
  },
  {
   "cell_type": "markdown",
   "metadata": {},
   "source": [
    "Now we will implement our discretization using a for loop to iterate over time. We create a numpy array u that will hold all of our values at each time step for each component (SVIR). We will use dt of 1 to represent 1 day and iterate over 365 days. "
   ]
  },
  {
   "cell_type": "code",
   "execution_count": 330,
   "metadata": {
    "collapsed": false
   },
   "outputs": [],
   "source": [
    "T = 365 # Iterate over 1 year\n",
    "dt = 1 # 1 day\n",
    "N = int(T/dt)+1 # Total number of iterations\n",
    "t = numpy.linspace(0, T, N) # Time discretization\n",
    "\n",
    "u = numpy.zeros((N,4)) # Initialize the solution array with zero values\n",
    "u[0] = [S0, V0, I0, R0] # Set the initial conditions in the solution array\n",
    "\n",
    "for n in range(N-1): # Loop through time steps\n",
    "    u[n+1] = euler_step(u[n], f, dt) # Get the value for the next time step using our euler_step function\n"
   ]
  },
  {
   "cell_type": "markdown",
   "metadata": {},
   "source": [
    "Now we use python's pyplot library to plot all of our results on the same graph:"
   ]
  },
  {
   "cell_type": "code",
   "execution_count": 341,
   "metadata": {
    "collapsed": false,
    "scrolled": true
   },
   "outputs": [
    {
     "data": {
      "image/png": "[encoded data removed]",
      "text/plain": [
       "<matplotlib.figure.Figure at 0x1072d5208>"
      ]
     },
     "metadata": {},
     "output_type": "display_data"
    }
   ],
   "source": [
    "pyplot.figure(figsize=(15,5))\n",
    "pyplot.grid(True)\n",
    "pyplot.xlabel(r'time', fontsize=18)\n",
    "pyplot.ylabel(r'population', fontsize=18)\n",
    "pyplot.xlim(0, 500)\n",
    "pyplot.title('Population of SVIR model over time', fontsize=18)\n",
    "pyplot.plot(t,u[:,0], color= 'red', lw=2, label = 'Susceptible');\n",
    "pyplot.plot(t,u[:,1], color='green', lw=2, label = 'Vaccinated');\n",
    "pyplot.plot(t,u[:,2], color='black', lw=2, label = 'Infected');\n",
    "pyplot.plot(t,u[:,3], color='blue', lw=2, label = 'Recovered');\n",
    "pyplot.legend();"
   ]
  },
  {
   "cell_type": "markdown",
   "metadata": {},
   "source": []
  },
  {
   "cell_type": "code",
   "execution_count": 252,
   "metadata": {
    "collapsed": false
   },
   "outputs": [],
   "source": [
    "from ipywidgets import interact, HTML, FloatSlider\n",
    "from IPython.display import clear_output, display\n"
   ]
  },
  {
   "cell_type": "markdown",
   "metadata": {},
   "source": [
    "Project Structure\n",
    "\n",
    "-Introduction of problem\n",
    "-Latex equations and derivations\n",
    "-Initial Code\n",
    "-Same code with varied parameters\n",
    "-Introduction of python widgets\n",
    "-Install instructions\n",
    "-Code implementation\n",
    "-Final graph with fully functioning widgets!\n",
    "-Stylesheet\n",
    "\n"
   ]
  },
  {
   "cell_type": "code",
   "execution_count": 204,
   "metadata": {
    "collapsed": false
   },
   "outputs": [
    {
     "name": "stdout",
     "output_type": "stream",
     "text": [
      "True\n"
     ]
    }
   ],
   "source": [
    "def z(x):\n",
    "    print(x)\n",
    "interact(z, x=True)\n",
    "interact(z, x=10)\n",
    "\n"
   ]
  },
  {
   "cell_type": "code",
   "execution_count": 314,
   "metadata": {
    "collapsed": true
   },
   "outputs": [],
   "source": [
    "def f(u, init):\n",
    "    \n",
    "    S = u[0]\n",
    "    V = u[1]\n",
    "    I = u[2]\n",
    "    R = u[3]\n",
    "    \n",
    "    p = init[0]\n",
    "    e = init[1]\n",
    "    mu = init[2]\n",
    "    beta = init[3]\n",
    "    gamma = init[4]\n",
    "    \n",
    "    return numpy.array([(1-e*p)*mu*N - beta*I*S - mu*S,\n",
    "                       e*p*mu*N - mu*V,\n",
    "                       beta*I*S - gamma*I - mu*I,\n",
    "                       gamma*I - mu*R])"
   ]
  },
  {
   "cell_type": "code",
   "execution_count": 315,
   "metadata": {
    "collapsed": true
   },
   "outputs": [],
   "source": [
    "def euler_step(u, f, dt, init):\n",
    "    return u + dt * f(u, init)"
   ]
  },
  {
   "cell_type": "code",
   "execution_count": 316,
   "metadata": {
    "collapsed": true
   },
   "outputs": [],
   "source": [
    "e = .1\n",
    "p = .5\n",
    "#mu = .00815\n",
    "mu = .02\n",
    "#N = 321368864 #As of Jul 2015 estimate\n",
    "beta = .002\n",
    "gamma = .1\n",
    "\n",
    "S0 = 100\n",
    "V0 = 50\n",
    "I0 = 75\n",
    "R0 = 10\n",
    "\n",
    "N = S0 + I0 + R0 + V0"
   ]
  },
  {
   "cell_type": "code",
   "execution_count": 322,
   "metadata": {
    "collapsed": false,
    "scrolled": true
   },
   "outputs": [
    {
     "data": {
      "image/png": "[encoded data removed]",
      "text/plain": [
       "<matplotlib.figure.Figure at 0x107311400>"
      ]
     },
     "metadata": {},
     "output_type": "display_data"
    }
   ],
   "source": [
    "pSlider = FloatSlider(description='p', min=0, max=1, step=0.1)\n",
    "eSlider = FloatSlider(description='e', min=0, max=1, step=0.1)\n",
    "muSlider = FloatSlider(description='mu', min=0, max=1, step=0.005)\n",
    "betaSlider = FloatSlider(description='beta', min=0, max=.01, step=0.0005)\n",
    "gammaSlider = FloatSlider(description='gamma', min=0, max=1, step=0.05)\n",
    "\n",
    "def update():\n",
    "    p = pSlider.value\n",
    "    e = eSlider.value    \n",
    "    mu = muSlider.value\n",
    "    beta = betaSlider.value\n",
    "    gamma = gammaSlider.value\n",
    "    \n",
    "    N = S0 + I0 + R0 + V0\n",
    "    print(p,e)\n",
    "    T = 365\n",
    "    dt = 1\n",
    "    N = int(T/dt)+1\n",
    "    t = numpy.linspace(0, T, N)\n",
    "\n",
    "    u = numpy.zeros((N,4))\n",
    "    u[0] = [S0, V0, I0, R0]\n",
    "    \n",
    "    init = numpy.array([p,e,mu,beta,gamma])\n",
    "\n",
    "    for n in range(N-1):\n",
    "        u[n+1] = euler_step(u[n], f, dt, init)\n",
    "        \n",
    "    pyplot.figure(figsize=(8,5))\n",
    "    pyplot.grid(True)\n",
    "    pyplot.xlabel(r'x', fontsize=18)\n",
    "    pyplot.ylabel(r'y', fontsize=18)\n",
    "    pyplot.title('TBD', fontsize=18)\n",
    "    pyplot.plot(t,u[:,0], color= 'red', lw=2);\n",
    "    pyplot.plot(t,u[:,1], color='green', lw=2);\n",
    "    pyplot.plot(t,u[:,2], color='black', lw=2);\n",
    "    pyplot.plot(t,u[:,3], color='blue', lw=2);\n",
    "    \n",
    "    clear_output(True)\n",
    "\n",
    "pSlider.on_trait_change(update, 'value')\n",
    "eSlider.on_trait_change(update, 'value')\n",
    "muSlider.on_trait_change(update, 'value')\n",
    "betaSlider.on_trait_change(update, 'value')\n",
    "gammaSlider.on_trait_change(update, 'value')\n",
    "\n",
    "    \n",
    "display(pSlider, eSlider, muSlider, betaSlider, gammaSlider)\n",
    "update()"
   ]
  },
  {
   "cell_type": "markdown",
   "metadata": {},
   "source": [
    "Dig deeper?\n",
    "\n",
    "create an array of famous virus initial conditions and ask the user to build a function that takes in the value of a user answer using ipywidgets and return the desired result for that disease\n",
    "\n"
   ]
  },
  {
   "cell_type": "code",
   "execution_count": null,
   "metadata": {
    "collapsed": false
   },
   "outputs": [],
   "source": [
    "Disease = [{name: Ebola, Location: US, gamma: .1}, {measles}, {malaria}, {TB}, {HIV}]"
   ]
  },
  {
   "cell_type": "markdown",
   "metadata": {},
   "source": [
    "Ebola Vid\n",
    "http://www.theguardian.com/world/video/2014/oct/22/ebola-virus-how-it-spreads-video\n",
    "\n",
    "sliders\n",
    "https://github.com/ipython/ipywidgets/issues/145\n",
    "\n",
    "Model\n",
    "http://bmb.oxfordjournals.org/content/62/1/187.long#F2\n",
    "\n",
    "Simple Model\n",
    "https://en.wikipedia.org/wiki/Epidemic_model\n",
    "\n"
   ]
  },
  {
   "cell_type": "code",
   "execution_count": null,
   "metadata": {
    "collapsed": true
   },
   "outputs": [],
   "source": []
  }
 ],
 "metadata": {
  "kernelspec": {
   "display_name": "Python 3",
   "language": "python",
   "name": "python3"
  },
  "language_info": {
   "codemirror_mode": {
    "name": "ipython",
    "version": 3
   },
   "file_extension": ".py",
   "mimetype": "text/x-python",
   "name": "python",
   "nbconvert_exporter": "python",
   "pygments_lexer": "ipython3",
   "version": "3.4.3"
  }
 },
 "nbformat": 4,
 "nbformat_minor": 0
}
