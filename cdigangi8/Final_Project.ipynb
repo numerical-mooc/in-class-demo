{
 "cells": [
  {
   "cell_type": "markdown",
   "metadata": {},
   "source": [
    "# Managing Epidemics Through Mathematical Modeling"
   ]
  },
  {
   "cell_type": "markdown",
   "metadata": {},
   "source": [
    "This lesson will examine the spread of an epidemic over time using Euler's method. The model is a system of non-linear ODEs which is based on the classic Susceptible, Infected, Recovered (SIR) model. This model introduces a new parameter  to include vaccinations. We will examine the various paremeters of the model and define conditions necessary to erradicate the epidemic.\n",
    "\n",
    "In this module we will also introduce ipywigets, an IPython library that allows you to add widgets to your notebooks and make them interactive! We will be using widgets to vary our parameters and see how changing different parameters affects the results of the model. This is a great technique for making quick and easy comparisons because you don't have to re-run your cell for the widget to make changes to the graph. "
   ]
  },
  {
   "cell_type": "markdown",
   "metadata": {},
   "source": [
    "## Introducing Model Parameters"
   ]
  },
  {
   "cell_type": "markdown",
   "metadata": {},
   "source": [
    "The most important part of understanding any model is understanding the nomenclature that is associated with it. Please review the below terms carefully and make sure you understand what each parameter represents.\n",
    "\n",
    "$S$: Susceptible Individuals\n",
    "\n",
    "$V$: Vaccinated Individuals\n",
    "\n",
    "$I$: Infected Individuals\n",
    "\n",
    "$R$: Recovered Individuals with Immunity (Cannot get infected again)\n",
    "\n",
    "$p$: Fraction of individuals who are vaccinated at birth \n",
    "\n",
    "$e$: Fraction of the vaccinated individuals that are successfully vaccinated\n",
    "\n",
    "$\\mu$: Average Death Rate\n",
    "\n",
    "$\\beta$: Contact Rate (Rate at which Susceptibles come into contact with Infected)\n",
    "\n",
    "$\\gamma$: Recovery Rate\n",
    "\n",
    "$R_0$: Basic Reporoduction Number\n",
    "\n",
    "$N$: Total Population ($S + V + I + R$)\n"
   ]
  },
  {
   "cell_type": "markdown",
   "metadata": {},
   "source": [
    "## Basic SVIR Model"
   ]
  },
  {
   "cell_type": "markdown",
   "metadata": {},
   "source": [
    "### Susceptible Equation\n",
    "Let's examine the model by component. First we will breakdown the susceptible individuals. In order to find the rate of change of susceptible individuls we must calculate the number of newborns that are not vaccinated:\n",
    "\n",
    "$$(1-ep) \\mu N$$\n",
    "\n",
    "The number of Susceptible Individuals that become infected:\n",
    "\n",
    "$$ \\beta IS_{infections}$$\n",
    "\n",
    "and finally the number of Susceptibles that die:\n",
    "\n",
    "$$ \\mu S_{deaths}$$\n",
    "\n",
    "Therefore the change in Susceptible Indivduals becomes:\n",
    "\n",
    "$$\\frac{dS}{dt} = (1-ep) \\mu N - \\beta IS - \\mu S$$\n"
   ]
  },
  {
   "cell_type": "markdown",
   "metadata": {},
   "source": [
    "### Vaccinated Equation\n",
    "\n",
    "Now examining the vaccinated individuals we start with the newborns that are vaccinated:\n",
    "\n",
    "$$ep \\mu N$$\n",
    "\n",
    "And the number of vaccinated individuals that die:\n",
    "\n",
    "$$\\mu V$$\n",
    "\n",
    "The change in vaccinated individuals becomes:\n",
    "\n",
    "$$\\frac{dV}{dt} = ep \\mu N - \\mu V$$"
   ]
  },
  {
   "cell_type": "markdown",
   "metadata": {},
   "source": [
    "### Infected Equation\n",
    "\n",
    "For the infected individuals we start with the number of Susceptible individuals that are exposed and become infected:\n",
    "\n",
    "$$\\beta IS_{infections}$$\n",
    "\n",
    "Next we need the number of Infected individuals that recovered:\n",
    "\n",
    "$$\\gamma I_{recoveries}$$\n",
    "\n",
    "Finally we examine the infected who die:\n",
    "\n",
    "$$\\mu I_{deaths}$$\n",
    "\n",
    "Putting this all together we get the following equation:\n",
    "\n",
    "$$\\frac{dI}{dt} = \\beta IS - \\gamma I - \\mu I$$"
   ]
  },
  {
   "cell_type": "markdown",
   "metadata": {},
   "source": [
    "### Recovered Equation\n",
    "\n",
    "The number of recovered individuals first relies on the infected who recover:\n",
    "\n",
    "$$\\gamma I$$\n",
    "\n",
    "Next it depeds on the recovered individuals who die:\n",
    "\n",
    "$$\\mu R$$\n",
    "\n",
    "Putting this together yeilds the equation:\n",
    "\n",
    "$$\\frac{dR}{dt} = \\gamma I - \\mu R$$"
   ]
  },
  {
   "cell_type": "markdown",
   "metadata": {},
   "source": [
    "## Model Summary and Assumptions\n",
    "\n",
    "The complete model is as follows:\n",
    "\n",
    "$$\\frac{dS}{dt} = (1-ep) \\mu N - \\beta IS - \\mu S$$\n",
    "\n",
    "$$\\frac{dV}{dt} = ep \\mu N - \\mu V$$\n",
    "\n",
    "$$\\frac{dI}{dt} = \\beta IS - \\gamma I - \\mu I$$\n",
    "\n",
    "$$\\frac{dR}{dt} = \\gamma I - \\mu R$$"
   ]
  },
  {
   "cell_type": "code",
   "execution_count": 238,
   "metadata": {
    "collapsed": false
   },
   "outputs": [],
   "source": [
    "%matplotlib inline\n",
    "import numpy \n",
    "from matplotlib import pyplot\n",
    "from matplotlib import rcParams\n",
    "rcParams['font.family'] = 'serif'\n",
    "rcParams['font.size'] = 16\n",
    "\n",
    "#Statistics from cia world factbook\n",
    "\n",
    "e = .1\n",
    "p = .75\n",
    "#mu = .00815\n",
    "mu = .02\n",
    "#N = 321368864 #As of Jul 2015 estimate\n",
    "beta = .002\n",
    "gamma = .5\n",
    "\n",
    "S0 = 100\n",
    "V0 = 50\n",
    "I0 = 75\n",
    "R0 = 10\n",
    "\n",
    "N = S0 + I0 + R0 + V0\n",
    "\n",
    "#S[i] = (1-e*p)*mu*N - beta*I[i-1]*S[i-1] - mu*S[i-1]\n",
    "#V[i] = e*p*mu*N - mu*V[i-1]\n",
    "#I[i] = beta*I[i-1]*S[i-1] - gamma*I[i-1] - mu*I[i-1]\n",
    "#R[i] = gamma*I[i-1] - mu*R[i-1]"
   ]
  },
  {
   "cell_type": "code",
   "execution_count": 305,
   "metadata": {
    "collapsed": false
   },
   "outputs": [],
   "source": [
    "def f(u):\n",
    "    \n",
    "    S = u[0]\n",
    "    V = u[1]\n",
    "    I = u[2]\n",
    "    R = u[3]\n",
    "    \n",
    "    return numpy.array([(1-e*p)*mu*N - beta*I*S - mu*S,\n",
    "                       e*p*mu*N - mu*V,\n",
    "                       beta*I*S - gamma*I - mu*I,\n",
    "                       gamma*I - mu*R])"
   ]
  },
  {
   "cell_type": "code",
   "execution_count": 306,
   "metadata": {
    "collapsed": false
   },
   "outputs": [
    {
     "name": "stdout",
     "output_type": "stream",
     "text": [
      "0.21252000000000001\n",
      "0.033\n",
      "0.006600000000000001\n"
     ]
    }
   ],
   "source": [
    "print(322*.33*.002)\n",
    "print(gamma*.33)\n",
    "print(mu*.33)"
   ]
  },
  {
   "cell_type": "code",
   "execution_count": 307,
   "metadata": {
    "collapsed": true
   },
   "outputs": [],
   "source": [
    "def euler_step(u, f, dt):\n",
    "    return u + dt * f(u)"
   ]
  },
  {
   "cell_type": "code",
   "execution_count": 309,
   "metadata": {
    "collapsed": false
   },
   "outputs": [],
   "source": [
    "T = 365\n",
    "dt = 1\n",
    "N = int(T/dt)+1\n",
    "t = numpy.linspace(0, T, N)\n",
    "\n",
    "u = numpy.zeros((N,4))\n",
    "u[0] = [S0, V0, I0, R0]\n",
    "\n",
    "for n in range(N-1):\n",
    "    u[n+1] = euler_step(u[n], f, dt)\n"
   ]
  },
  {
   "cell_type": "code",
   "execution_count": 243,
   "metadata": {
    "collapsed": false
   },
   "outputs": [
    {
     "data": {
      "image/png": "[encoded data removed]",
      "text/plain": [
       "<matplotlib.figure.Figure at 0x10733fcf8>"
      ]
     },
     "metadata": {},
     "output_type": "display_data"
    }
   ],
   "source": [
    "pyplot.figure(figsize=(8,6))\n",
    "pyplot.grid(True)\n",
    "pyplot.xlabel(r'x', fontsize=18)\n",
    "pyplot.ylabel(r'y', fontsize=18)\n",
    "pyplot.title('TBD', fontsize=18)\n",
    "pyplot.plot(t,u[:,0], color= 'red', lw=2);\n",
    "pyplot.plot(t,u[:,1], color='green', lw=2);\n",
    "pyplot.plot(t,u[:,2], color='black', lw=2);\n",
    "pyplot.plot(t,u[:,3], color='blue', lw=2);"
   ]
  },
  {
   "cell_type": "code",
   "execution_count": 252,
   "metadata": {
    "collapsed": false
   },
   "outputs": [],
   "source": [
    "from ipywidgets import interact, HTML, FloatSlider\n",
    "from IPython.display import clear_output, display\n"
   ]
  },
  {
   "cell_type": "markdown",
   "metadata": {},
   "source": [
    "Project Structure\n",
    "\n",
    "-Introduction of problem\n",
    "-Latex equations and derivations\n",
    "-Initial Code\n",
    "-Same code with varied parameters\n",
    "-Introduction of python widgets\n",
    "-Install instructions\n",
    "-Code implementation\n",
    "-Final graph with fully functioning widgets!\n",
    "-Stylesheet\n",
    "\n"
   ]
  },
  {
   "cell_type": "code",
   "execution_count": 204,
   "metadata": {
    "collapsed": false
   },
   "outputs": [
    {
     "name": "stdout",
     "output_type": "stream",
     "text": [
      "True\n"
     ]
    }
   ],
   "source": [
    "def z(x):\n",
    "    print(x)\n",
    "interact(z, x=True)\n",
    "interact(z, x=10)\n",
    "\n"
   ]
  },
  {
   "cell_type": "code",
   "execution_count": 314,
   "metadata": {
    "collapsed": true
   },
   "outputs": [],
   "source": [
    "def f(u, init):\n",
    "    \n",
    "    S = u[0]\n",
    "    V = u[1]\n",
    "    I = u[2]\n",
    "    R = u[3]\n",
    "    \n",
    "    p = init[0]\n",
    "    e = init[1]\n",
    "    mu = init[2]\n",
    "    beta = init[3]\n",
    "    gamma = init[4]\n",
    "    \n",
    "    return numpy.array([(1-e*p)*mu*N - beta*I*S - mu*S,\n",
    "                       e*p*mu*N - mu*V,\n",
    "                       beta*I*S - gamma*I - mu*I,\n",
    "                       gamma*I - mu*R])"
   ]
  },
  {
   "cell_type": "code",
   "execution_count": 315,
   "metadata": {
    "collapsed": true
   },
   "outputs": [],
   "source": [
    "def euler_step(u, f, dt, init):\n",
    "    return u + dt * f(u, init)"
   ]
  },
  {
   "cell_type": "code",
   "execution_count": 316,
   "metadata": {
    "collapsed": true
   },
   "outputs": [],
   "source": [
    "e = .1\n",
    "p = .5\n",
    "#mu = .00815\n",
    "mu = .02\n",
    "#N = 321368864 #As of Jul 2015 estimate\n",
    "beta = .002\n",
    "gamma = .1\n",
    "\n",
    "S0 = 100\n",
    "V0 = 50\n",
    "I0 = 75\n",
    "R0 = 10\n",
    "\n",
    "N = S0 + I0 + R0 + V0"
   ]
  },
  {
   "cell_type": "code",
   "execution_count": 322,
   "metadata": {
    "collapsed": false,
    "scrolled": true
   },
   "outputs": [
    {
     "data": {
      "image/png": "[encoded data removed]",
      "text/plain": [
       "<matplotlib.figure.Figure at 0x107311400>"
      ]
     },
     "metadata": {},
     "output_type": "display_data"
    }
   ],
   "source": [
    "pSlider = FloatSlider(description='p', min=0, max=1, step=0.1)\n",
    "eSlider = FloatSlider(description='e', min=0, max=1, step=0.1)\n",
    "muSlider = FloatSlider(description='mu', min=0, max=1, step=0.005)\n",
    "betaSlider = FloatSlider(description='beta', min=0, max=.01, step=0.0005)\n",
    "gammaSlider = FloatSlider(description='gamma', min=0, max=1, step=0.05)\n",
    "\n",
    "def update():\n",
    "    p = pSlider.value\n",
    "    e = eSlider.value    \n",
    "    mu = muSlider.value\n",
    "    beta = betaSlider.value\n",
    "    gamma = gammaSlider.value\n",
    "    \n",
    "    N = S0 + I0 + R0 + V0\n",
    "    print(p,e)\n",
    "    T = 365\n",
    "    dt = 1\n",
    "    N = int(T/dt)+1\n",
    "    t = numpy.linspace(0, T, N)\n",
    "\n",
    "    u = numpy.zeros((N,4))\n",
    "    u[0] = [S0, V0, I0, R0]\n",
    "    \n",
    "    init = numpy.array([p,e,mu,beta,gamma])\n",
    "\n",
    "    for n in range(N-1):\n",
    "        u[n+1] = euler_step(u[n], f, dt, init)\n",
    "        \n",
    "    pyplot.figure(figsize=(8,5))\n",
    "    pyplot.grid(True)\n",
    "    pyplot.xlabel(r'x', fontsize=18)\n",
    "    pyplot.ylabel(r'y', fontsize=18)\n",
    "    pyplot.title('TBD', fontsize=18)\n",
    "    pyplot.plot(t,u[:,0], color= 'red', lw=2);\n",
    "    pyplot.plot(t,u[:,1], color='green', lw=2);\n",
    "    pyplot.plot(t,u[:,2], color='black', lw=2);\n",
    "    pyplot.plot(t,u[:,3], color='blue', lw=2);\n",
    "    \n",
    "    clear_output(True)\n",
    "\n",
    "pSlider.on_trait_change(update, 'value')\n",
    "eSlider.on_trait_change(update, 'value')\n",
    "muSlider.on_trait_change(update, 'value')\n",
    "betaSlider.on_trait_change(update, 'value')\n",
    "gammaSlider.on_trait_change(update, 'value')\n",
    "\n",
    "    \n",
    "display(pSlider, eSlider, muSlider, betaSlider, gammaSlider)\n",
    "update()"
   ]
  },
  {
   "cell_type": "markdown",
   "metadata": {},
   "source": [
    "Dig deeper?\n",
    "\n",
    "create an array of famous virus initial conditions and ask the user to build a function that takes in the value of a user answer using ipywidgets and return the desired result for that disease\n",
    "\n"
   ]
  },
  {
   "cell_type": "code",
   "execution_count": null,
   "metadata": {
    "collapsed": false
   },
   "outputs": [],
   "source": [
    "Disease = [{name: Ebola, Location: US, gamma: .1}, {measles}, {malaria}, {TB}, {HIV}]"
   ]
  },
  {
   "cell_type": "markdown",
   "metadata": {},
   "source": [
    "Ebola Vid\n",
    "http://www.theguardian.com/world/video/2014/oct/22/ebola-virus-how-it-spreads-video\n",
    "\n",
    "sliders\n",
    "https://github.com/ipython/ipywidgets/issues/145\n",
    "\n",
    "Model\n",
    "http://bmb.oxfordjournals.org/content/62/1/187.long#F2\n",
    "\n",
    "Simple Model\n",
    "https://en.wikipedia.org/wiki/Epidemic_model\n",
    "\n"
   ]
  },
  {
   "cell_type": "code",
   "execution_count": null,
   "metadata": {
    "collapsed": true
   },
   "outputs": [],
   "source": []
  }
 ],
 "metadata": {
  "kernelspec": {
   "display_name": "Python 3",
   "language": "python",
   "name": "python3"
  },
  "language_info": {
   "codemirror_mode": {
    "name": "ipython",
    "version": 3
   },
   "file_extension": ".py",
   "mimetype": "text/x-python",
   "name": "python",
   "nbconvert_exporter": "python",
   "pygments_lexer": "ipython3",
   "version": "3.4.3"
  }
 },
 "nbformat": 4,
 "nbformat_minor": 0
}
