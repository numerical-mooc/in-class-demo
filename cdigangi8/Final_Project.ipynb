{
 "cells": [
  {
   "cell_type": "markdown",
   "metadata": {},
   "source": [
    "$S$: Susceptibles\n",
    "\n",
    "$I$: Infectives\n",
    "\n",
    "$R$: Recovered with Immunity\n",
    "\n",
    "$\\beta$: Contact Rate\n",
    "\n",
    "$\\mu$: Average Death Rate\n",
    "\n",
    "$B$: Average Birth Rate\n",
    "\n",
    "$\\frac{1}{\\epsilon}$: Average Latent Period\n",
    "\n",
    "$\\frac{1}{\\gamma}$: Average infectious period\n",
    "\n",
    "$R_0$: Basic Reporoduction Number\n",
    "\n",
    "$N$: Total Population\n",
    "\n",
    "\n",
    "$$\\frac{dS}{dt} = (1-ep) \\mu N_{unvaccinated \\ births} - \\beta IS_{infections} - \\mu S_{deaths}$$\n",
    "\n",
    "$$\\frac{dV}{dt} = ep \\mu N_{vaccinated births} - \\mu V_{deaths}$$\n",
    "\n",
    "$$\\frac{dI}{dt} = \\beta IS_{infections} - \\gamma I_{recoveries} - \\mu I_{deaths}$$\n",
    "\n",
    "$$\\frac{dR}{dt} = \\gamma I_{recoveries} - \\mu R_{deaths}$$"
   ]
  },
  {
   "cell_type": "markdown",
   "metadata": {},
   "source": [
    "where p is a fraction of the newly born individuals that are vaccinated at birth\n",
    "\n",
    "the vaccination takes in a fraction e of the vaccinated individuals and protects them for an average period $\\frac{1}{\\omega}$ years"
   ]
  },
  {
   "cell_type": "code",
   "execution_count": null,
   "metadata": {
    "collapsed": true
   },
   "outputs": [],
   "source": [
    "%matplotlib inline\n",
    "import numpy \n",
    "from matplotlib import pyplot\n",
    "from matplotlib import rcParams\n",
    "rcParams['font.family'] = 'serif'\n",
    "rcParams['font.size'] = 16\n",
    "\n",
    "#Statistics from cia world factbook\n",
    "\n",
    "e = \n",
    "p = \n",
    "mu = \n",
    "N = 321368864 #As of Jul 2015 estimate\n",
    "beta = \n",
    "\n",
    "\n",
    "u[i] = (1-e*p)*mu*N - beta*I[i-1]*S[i-1] - mu*S[i-1]"
   ]
  },
  {
   "cell_type": "code",
   "execution_count": null,
   "metadata": {
    "collapsed": true
   },
   "outputs": [],
   "source": [
    "print(321368864/1000)"
   ]
  },
  {
   "cell_type": "code",
   "execution_count": null,
   "metadata": {
    "collapsed": true
   },
   "outputs": [],
   "source": []
  }
 ],
 "metadata": {
  "kernelspec": {
   "display_name": "Python 3",
   "language": "python",
   "name": "python3"
  },
  "language_info": {
   "codemirror_mode": {
    "name": "ipython",
    "version": 3
   },
   "file_extension": ".py",
   "mimetype": "text/x-python",
   "name": "python",
   "nbconvert_exporter": "python",
   "pygments_lexer": "ipython3",
   "version": "3.4.3"
  }
 },
 "nbformat": 4,
 "nbformat_minor": 0
}
