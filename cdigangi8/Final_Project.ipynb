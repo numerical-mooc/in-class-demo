{
 "cells": [
  {
   "cell_type": "markdown",
   "metadata": {},
   "source": [
    "# Managing Epidemics Through Mathematical Modeling"
   ]
  },
  {
   "cell_type": "markdown",
   "metadata": {},
   "source": [
    "This lesson will examine the spread of an epidemic over time using Euler's method. The model is a system of non-linear ODEs which is based on the classic Susceptible, Infected, Recovered (SIR) model. This model introduces a new parameter  to include vaccinations. We will examine the various paremeters of the model and define conditions necessary to erradicate the epidemic.\n",
    "\n",
    "In this module we will also introduce ipywigets, an IPython library that allows you to add widgets to your notebooks and make them interactive! We will be using widgets to vary our parameters and see how changing different parameters affects the results of the model. This is a great technique for making quick and easy comparisons because you don't have to re-run your cell for the widget to make changes to the graph. "
   ]
  },
  {
   "cell_type": "markdown",
   "metadata": {},
   "source": [
    "## Introducing Model Parameters"
   ]
  },
  {
   "cell_type": "markdown",
   "metadata": {},
   "source": [
    "The most important part of understanding any model is understanding the nomenclature that is associated with it. Please review the below terms carefully and make sure you understand what each parameter represents.\n",
    "\n",
    "$S$: Susceptible Individuals\n",
    "\n",
    "$V$: Vaccinated Individuals\n",
    "\n",
    "$I$: Infected Individuals\n",
    "\n",
    "$R$: Recovered Individuals with Immunity (Cannot get infected again)\n",
    "\n",
    "$p$: Fraction of individuals who are vaccinated at birth \n",
    "\n",
    "$e$: Fraction of the vaccinated individuals that are successfully vaccinated\n",
    "\n",
    "$\\mu$: Average Death Rate\n",
    "\n",
    "$\\beta$: Contact Rate (Rate at which Susceptibles come into contact with Infected)\n",
    "\n",
    "$\\gamma$: Recovery Rate\n",
    "\n",
    "$R_0$: Basic Reporoduction Number\n",
    "\n",
    "$N$: Total Population ($S + V + I + R$)\n"
   ]
  },
  {
   "cell_type": "markdown",
   "metadata": {},
   "source": [
    "## Basic SVIR Model"
   ]
  },
  {
   "cell_type": "markdown",
   "metadata": {},
   "source": [
    "### Susceptible Equation\n",
    "Let's examine the model by component. First we will breakdown the equation for susceptible individuals. In order to find the rate of change of susceptible individuls we must calculate the number of newborns that are not vaccinated:\n",
    "\n",
    "$$(1-ep) \\mu N$$\n",
    "\n",
    "The number of Susceptible Individuals that become infected:\n",
    "\n",
    "$$ \\beta IS_{infections}$$\n",
    "\n",
    "and finally the number of Susceptibles that die:\n",
    "\n",
    "$$ \\mu S_{deaths}$$\n",
    "\n",
    "Therefore the change in Susceptible Indivduals becomes:\n",
    "\n",
    "$$\\frac{dS}{dt} = (1-ep) \\mu N - \\beta IS - \\mu S$$\n"
   ]
  },
  {
   "cell_type": "markdown",
   "metadata": {},
   "source": [
    "### Vaccinated Equation\n",
    "\n",
    "Now examining the vaccinated individuals we start with the newborns that are vaccinated:\n",
    "\n",
    "$$ep \\mu N$$\n",
    "\n",
    "And the number of vaccinated individuals that die:\n",
    "\n",
    "$$\\mu V$$\n",
    "\n",
    "The change in vaccinated individuals becomes:\n",
    "\n",
    "$$\\frac{dV}{dt} = ep \\mu N - \\mu V$$"
   ]
  },
  {
   "cell_type": "markdown",
   "metadata": {},
   "source": [
    "### Infected Equation\n",
    "\n",
    "For the infected individuals we start with the number of Susceptible individuals that are exposed and become infected:\n",
    "\n",
    "$$\\beta IS_{infections}$$\n",
    "\n",
    "Next we need the number of Infected individuals that recovered:\n",
    "\n",
    "$$\\gamma I_{recoveries}$$\n",
    "\n",
    "Finally we examine the infected who die:\n",
    "\n",
    "$$\\mu I_{deaths}$$\n",
    "\n",
    "Putting this all together we get the following equation:\n",
    "\n",
    "$$\\frac{dI}{dt} = \\beta IS - \\gamma I - \\mu I$$"
   ]
  },
  {
   "cell_type": "markdown",
   "metadata": {},
   "source": [
    "### Recovered Equation\n",
    "\n",
    "The number of recovered individuals first relies on the infected who recover:\n",
    "\n",
    "$$\\gamma I$$\n",
    "\n",
    "Next it depeds on the recovered individuals who die:\n",
    "\n",
    "$$\\mu R$$\n",
    "\n",
    "Putting this together yeilds the equation:\n",
    "\n",
    "$$\\frac{dR}{dt} = \\gamma I - \\mu R$$"
   ]
  },
  {
   "cell_type": "markdown",
   "metadata": {},
   "source": [
    "## Model Summary and Assumptions\n",
    "\n",
    "The complete model is as follows:\n",
    "\n",
    "$$\\frac{dS}{dt} = (1-ep) \\mu N - \\beta IS - \\mu S$$\n",
    "\n",
    "$$\\frac{dV}{dt} = ep \\mu N - \\mu V$$\n",
    "\n",
    "$$\\frac{dI}{dt} = \\beta IS - \\gamma I - \\mu I$$\n",
    "\n",
    "$$\\frac{dR}{dt} = \\gamma I - \\mu R$$\n",
    "\n",
    "This is a very simplified model because of the complexities of infectious diseases. The model makes the following assumptions:\n",
    "\n",
    "- The population N is held constant\n",
    "- The birth rate and death rate are equal\n",
    "- The death rate is the same across all individuals (Infected do not have higher death rate)\n",
    "- A susceptible individual that comes in contact with an infected automatically becomes infected\n",
    "- Once an individual has recovered they are forever immune and not reintroduced into the susceptible population\n",
    "- Vaccination does not wear off (vaccinated cannot become infected)\n"
   ]
  },
  {
   "cell_type": "markdown",
   "metadata": {},
   "source": [
    "## Implementing Numerical Solution with Euler!\n",
    "\n",
    "For the numerical solution we will be using Euler's method since we are only dealing with time derivatives. Just to review, for Euler's method we replace the time derivative by the following:\n",
    "\n",
    "$$\\frac{dS}{dt} = \\frac{S^{n+1} - S^n}{\\Delta t}$$\n",
    "\n",
    "where n represents the discretized time.\n",
    "\n",
    "Therefore after we discretize our model we have:\n",
    "\n",
    "$$\\frac{S^{n+1} - S^n}{\\Delta t} = (1-ep) \\mu N - \\beta IS^n - \\mu S^n$$\n",
    "\n",
    "$$\\frac{V^{n+1} - V^n}{\\Delta t} = ep \\mu N - \\mu V^n$$\n",
    "\n",
    "$$\\frac{I^{n+1} - I^n}{\\Delta t} = \\beta I^nS^n - \\gamma I^n - \\mu I^n$$\n",
    "\n",
    "$$\\frac{R^{n+1} - R^n}{\\Delta t} = \\gamma I^n - \\mu R^n$$\n",
    "\n",
    "And now solving for the value at the next time step yeilds:\n",
    "\n",
    "$$S^{n+1}  = S^n + \\Delta t \\left((1-ep) \\mu N - \\beta IS^n - \\mu S^n \\right)$$\n",
    "\n",
    "$$V^{n+1} = V^n +  \\Delta t ( ep \\mu N - \\mu V^n)$$\n",
    "\n",
    "$$I^{n+1} = I^n + \\Delta t (\\beta I^nS^n - \\gamma I^n - \\mu I^n)$$\n",
    "\n",
    "$$R^{n+1}  = R^n + \\Delta t ( \\gamma I^n - \\mu R^n)$$"
   ]
  },
  {
   "cell_type": "markdown",
   "metadata": {},
   "source": [
    "If we want to implement this into our code we can build arrays to hold our system of equations. Assuming u is our solution matrix and f(u) is our right hand side:\n",
    "\n",
    "\\begin{align}\n",
    "u & = \\begin{pmatrix} S \\\\ V \\\\ I \\\\ R \\end{pmatrix} & f(u) & = \\begin{pmatrix} S^n + \\Delta t \\left((1-ep) \\mu N - \\beta IS^n - \\mu S^n \\right) \\\\ V^n +  \\Delta t ( ep \\mu N - \\mu V^n) \\\\ I^n + \\Delta t (\\beta I^nS^n - \\gamma I^n - \\mu I^n) \\\\ R^n + \\Delta t ( \\gamma I^n - \\mu R^n) \\end{pmatrix}.\n",
    "\\end{align}"
   ]
  },
  {
   "cell_type": "markdown",
   "metadata": {},
   "source": [
    "## Solve!\n",
    "\n",
    "Now we will implement this solution below. First we will import the necessary python libraries"
   ]
  },
  {
   "cell_type": "code",
   "execution_count": 367,
   "metadata": {
    "collapsed": true
   },
   "outputs": [],
   "source": [
    "%matplotlib inline\n",
    "import numpy \n",
    "from matplotlib import pyplot\n",
    "from matplotlib import rcParams\n",
    "rcParams['font.family'] = 'serif'\n",
    "rcParams['font.size'] = 16"
   ]
  },
  {
   "cell_type": "markdown",
   "metadata": {},
   "source": [
    "Let us first define our function $f(u)$ that will calculate the right hand side of our model. We will pass in the array $u$ which contains our different populations and set them individually in the function:"
   ]
  },
  {
   "cell_type": "code",
   "execution_count": 368,
   "metadata": {
    "collapsed": true
   },
   "outputs": [],
   "source": [
    "def f(u):\n",
    "    \"\"\"Returns the right-hand side of the epidemic model equations.\n",
    "    \n",
    "    Parameters\n",
    "    ----------\n",
    "    u : array of float\n",
    "        array containing the solution at time n.\n",
    "        u is passed in and distributed to the different components by calling the individual value in u[i]\n",
    "        \n",
    "    Returns\n",
    "    -------\n",
    "    du/dt : array of float\n",
    "        array containing the RHS given u.\n",
    "    \"\"\"\n",
    "    \n",
    "    S = u[0]\n",
    "    V = u[1]\n",
    "    I = u[2]\n",
    "    R = u[3]\n",
    "    \n",
    "    return numpy.array([(1-e*p)*mu*N - beta*I*S - mu*S,\n",
    "                       e*p*mu*N - mu*V,\n",
    "                       beta*I*S - gamma*I - mu*I,\n",
    "                       gamma*I - mu*R])"
   ]
  },
  {
   "cell_type": "markdown",
   "metadata": {},
   "source": [
    "Next we will define the euler solution as a function so that we can call it as we iterate through time."
   ]
  },
  {
   "cell_type": "code",
   "execution_count": 369,
   "metadata": {
    "collapsed": false
   },
   "outputs": [],
   "source": [
    "def euler_step(u, f, dt):\n",
    "    \n",
    "    \"\"\"Returns the solution at the next time-step using Euler's method.\n",
    "    \n",
    "    Parameters\n",
    "    ----------\n",
    "    u : array of float\n",
    "        solution at the previous time-step.\n",
    "    f : function\n",
    "        function to compute the right hand-side of the system of equation.\n",
    "    dt : float\n",
    "        time-increment.\n",
    "    \n",
    "    Returns\n",
    "    -------\n",
    "        approximate solution at the next time step.\n",
    "    \"\"\"\n",
    "    \n",
    "    return u + dt * f(u)"
   ]
  },
  {
   "cell_type": "markdown",
   "metadata": {
    "collapsed": false
   },
   "source": [
    "Now we are ready to set up our initial conditions and solve! We will use a simplified population to start with."
   ]
  },
  {
   "cell_type": "code",
   "execution_count": 370,
   "metadata": {
    "collapsed": true
   },
   "outputs": [],
   "source": [
    "e = .1 #vaccination success rate\n",
    "p = .75 # newborn vaccination rate\n",
    "mu = .02 # death rate\n",
    "beta = .002 # contact rate\n",
    "gamma = .5 # Recovery rate\n",
    "\n",
    "S0 = 100 # Initial Susceptibles\n",
    "V0 = 50 # Initial Vaccinated\n",
    "I0 = 75 # Initial Infected\n",
    "R0 = 10 # Initial Recovered\n",
    "\n",
    "N = S0 + I0 + R0 + V0 #Total population (remains constant)"
   ]
  },
  {
   "cell_type": "markdown",
   "metadata": {},
   "source": [
    "Now we will implement our discretization using a for loop to iterate over time. We create a numpy array $u$ that will hold all of our values at each time step for each component (SVIR). We will use dt of 1 to represent 1 day and iterate over 365 days. "
   ]
  },
  {
   "cell_type": "code",
   "execution_count": 371,
   "metadata": {
    "collapsed": false
   },
   "outputs": [],
   "source": [
    "T = 365 # Iterate over 1 year\n",
    "dt = 1 # 1 day\n",
    "N = int(T/dt)+1 # Total number of iterations\n",
    "t = numpy.linspace(0, T, N) # Time discretization\n",
    "\n",
    "u = numpy.zeros((N,4)) # Initialize the solution array with zero values\n",
    "u[0] = [S0, V0, I0, R0] # Set the initial conditions in the solution array\n",
    "\n",
    "for n in range(N-1): # Loop through time steps\n",
    "    u[n+1] = euler_step(u[n], f, dt) # Get the value for the next time step using our euler_step function\n"
   ]
  },
  {
   "cell_type": "markdown",
   "metadata": {},
   "source": [
    "Now we use python's pyplot library to plot all of our results on the same graph:"
   ]
  },
  {
   "cell_type": "code",
   "execution_count": 372,
   "metadata": {
    "collapsed": false,
    "scrolled": true
   },
   "outputs": [
    {
     "data": {
      "image/png": "[encoded data removed]",
      "text/plain": [
       "<matplotlib.figure.Figure at 0x107929a58>"
      ]
     },
     "metadata": {},
     "output_type": "display_data"
    }
   ],
   "source": [
    "pyplot.figure(figsize=(15,5))\n",
    "pyplot.grid(True)\n",
    "pyplot.xlabel(r'time', fontsize=18)\n",
    "pyplot.ylabel(r'population', fontsize=18)\n",
    "pyplot.xlim(0, 500)\n",
    "pyplot.title('Population of SVIR model over time', fontsize=18)\n",
    "pyplot.plot(t,u[:,0], color= 'red', lw=2, label = 'Susceptible');\n",
    "pyplot.plot(t,u[:,1], color='green', lw=2, label = 'Vaccinated');\n",
    "pyplot.plot(t,u[:,2], color='black', lw=2, label = 'Infected');\n",
    "pyplot.plot(t,u[:,3], color='blue', lw=2, label = 'Recovered');\n",
    "pyplot.legend();"
   ]
  },
  {
   "cell_type": "markdown",
   "metadata": {},
   "source": [
    "The graph is interesting because it exhibits some oscillating behavior. You can see that under the given parameters, the number of infected people drops within the first few days. Notice that the susceptible individuals grow until about 180 days. The return of infection is a result of too many susceptible people in the population. The number of infected looks like it goes to zero but it never quite reaches zero. Therfore, when we have $\\beta IS$, when $S$ gets large enough the infection will start to be reintroduced into the population.\n",
    "\n",
    "If we want to examine how the population changes under new conditions, we could re-run the below cell with new parameters:"
   ]
  },
  {
   "cell_type": "code",
   "execution_count": 373,
   "metadata": {
    "collapsed": false
   },
   "outputs": [
    {
     "data": {
      "image/png": "[encoded data removed]",
      "text/plain": [
       "<matplotlib.figure.Figure at 0x107440f28>"
      ]
     },
     "metadata": {},
     "output_type": "display_data"
    }
   ],
   "source": [
    "e = .5 #vaccination success rate\n",
    "p = .75 # newborn vaccination rate\n",
    "mu = .02 # death rate\n",
    "beta = .002 # contact rate\n",
    "gamma = .1 # Recovery rate\n",
    "\n",
    "S0 = 100 # Initial Susceptibles\n",
    "V0 = 50 # Initial Vaccinated\n",
    "I0 = 75 # Initial Infected\n",
    "R0 = 10 # Initial Recovered\n",
    "\n",
    "N = S0 + I0 + R0 + V0 #Total population (remains constant)\n",
    "\n",
    "T = 365 # Iterate over 1 year\n",
    "dt = 1 # 1 day\n",
    "N = int(T/dt)+1 # Total number of iterations\n",
    "t = numpy.linspace(0, T, N) # Time discretization\n",
    "\n",
    "u = numpy.zeros((N,4)) # Initialize the solution array with zero values\n",
    "u[0] = [S0, V0, I0, R0] # Set the initial conditions in the solution array\n",
    "\n",
    "for n in range(N-1): # Loop through time steps\n",
    "    u[n+1] = euler_step(u[n], f, dt) # Get the value for the next time step using our euler_step function\n",
    "    \n",
    "pyplot.figure(figsize=(15,5))\n",
    "pyplot.grid(True)\n",
    "pyplot.xlabel(r'time', fontsize=18)\n",
    "pyplot.ylabel(r'population', fontsize=18)\n",
    "pyplot.xlim(0, 500)\n",
    "pyplot.title('Population of SVIR model over time', fontsize=18)\n",
    "pyplot.plot(t,u[:,0], color= 'red', lw=2, label = 'Susceptible');\n",
    "pyplot.plot(t,u[:,1], color='green', lw=2, label = 'Vaccinated');\n",
    "pyplot.plot(t,u[:,2], color='black', lw=2, label = 'Infected');\n",
    "pyplot.plot(t,u[:,3], color='blue', lw=2, label = 'Recovered');\n",
    "pyplot.legend();"
   ]
  },
  {
   "cell_type": "markdown",
   "metadata": {},
   "source": [
    "However, every time we want to examine new parameters we have to go back and change the values within the cell and re run our code. This is very cumbersome if we want to examine how different parameters affect our outcome. If only there were some solution we could implement that would allow us to change parameters on the fly without having to re-run our code..."
   ]
  },
  {
   "cell_type": "markdown",
   "metadata": {},
   "source": [
    "## ipywidgets!\n",
    "\n",
    "Well there is a solution we can implement! Using a python library called ipywidgets we can build interactive widgets into our notebook that allow for user interaction. If you do not have ipywidets installed, you can install it using conda by simply going to the terminal and typing:\n",
    "\n",
    "conda install ipywidgets\n",
    "\n",
    "Now we will import our desired libraries"
   ]
  },
  {
   "cell_type": "code",
   "execution_count": 374,
   "metadata": {
    "collapsed": false
   },
   "outputs": [],
   "source": [
    "from ipywidgets import interact, HTML, FloatSlider\n",
    "from IPython.display import clear_output, display"
   ]
  },
  {
   "cell_type": "markdown",
   "metadata": {},
   "source": [
    "The below cell is a quick view of a few different interactive widgets that are available. Notice that we must define a function (in this case $z$) where we call the function $z$ and parameter $x$, where $x$ is passed into the function $z$."
   ]
  },
  {
   "cell_type": "code",
   "execution_count": 375,
   "metadata": {
    "collapsed": false
   },
   "outputs": [
    {
     "name": "stdout",
     "output_type": "stream",
     "text": [
      "text\n"
     ]
    },
    {
     "data": {
      "text/plain": [
       "<function __main__.z>"
      ]
     },
     "execution_count": 375,
     "metadata": {},
     "output_type": "execute_result"
    }
   ],
   "source": [
    "def z(x):\n",
    "    print(x)\n",
    "interact(z, x=True) # Checkbox\n",
    "interact(z, x=10) # Slider \n",
    "interact(z, x='text') # Text entry\n",
    "\n"
   ]
  },
  {
   "cell_type": "markdown",
   "metadata": {},
   "source": [
    "# Redefining the Model to Accept Parameters"
   ]
  },
  {
   "cell_type": "markdown",
   "metadata": {},
   "source": [
    "In order to use ipywidgets and pass parameters in our functions we have to slightly redefine our functions to accept these changing parameters. This will ensure that we don't have to re-run any code and our graph will update as we change parameters!\n",
    "\n",
    "We will start with our function $f$. This function uses our initial parameters $p$, $e$, $\\mu$, $\\beta$, and $\\gamma$. Previously, we used the global definition of these variables so we didn't include them inside the function. Now we will be passing in both our array $u$ (which holds the different populations) and a new array called $init$ (which holds our initial parameters)."
   ]
  },
  {
   "cell_type": "code",
   "execution_count": 376,
   "metadata": {
    "collapsed": true
   },
   "outputs": [],
   "source": [
    "def f(u, init):\n",
    "    \n",
    "    \"\"\"Returns the right-hand side of the epidemic model equations.\n",
    "    \n",
    "    Parameters\n",
    "    ----------\n",
    "    u : array of float\n",
    "        array containing the solution at time n.\n",
    "        u is passed in and distributed to the different components by calling the individual value in u[i]\n",
    "    init : array of float\n",
    "        array containing the parameters for the model\n",
    "        \n",
    "    Returns\n",
    "    -------\n",
    "    du/dt : array of float\n",
    "        array containing the RHS given u.\n",
    "    \"\"\"\n",
    "    \n",
    "    S = u[0]\n",
    "    V = u[1]\n",
    "    I = u[2]\n",
    "    R = u[3]\n",
    "    \n",
    "    p = init[0]\n",
    "    e = init[1]\n",
    "    mu = init[2]\n",
    "    beta = init[3]\n",
    "    gamma = init[4]\n",
    "    \n",
    "    return numpy.array([(1-e*p)*mu*N - beta*I*S - mu*S,\n",
    "                       e*p*mu*N - mu*V,\n",
    "                       beta*I*S - gamma*I - mu*I,\n",
    "                       gamma*I - mu*R])"
   ]
  },
  {
   "cell_type": "markdown",
   "metadata": {},
   "source": [
    "Now we will change our $euler step$ function which calls our function $f$ to include the new $init$ array that we are passing."
   ]
  },
  {
   "cell_type": "code",
   "execution_count": 377,
   "metadata": {
    "collapsed": true
   },
   "outputs": [],
   "source": [
    "def euler_step(u, f, dt, init):\n",
    "    return u + dt * f(u, init)"
   ]
  },
  {
   "cell_type": "markdown",
   "metadata": {},
   "source": [
    "In order to make changes to our parameters, we will use slider widgets. Now that we have our functions set up, we will build another function which we will use to update the graph as we move our slider parameters. First we must build the sliders for each parameter. Using the FloatSlider method from ipywidgets, we can specify the min and max for our sliders and a step to increment.\n",
    "\n",
    "Next we build the update function which will take in the values of the sliders as they change and re-plot the graph. The function follows the same logic as before with the only difference being the changing parameters.\n",
    "\n",
    "Finally we specify the behavior of the sliders as they change values and call our update function."
   ]
  },
  {
   "cell_type": "code",
   "execution_count": 378,
   "metadata": {
    "collapsed": false,
    "scrolled": true
   },
   "outputs": [
    {
     "data": {
      "image/png": "[encoded data removed]",
      "text/plain": [
       "<matplotlib.figure.Figure at 0x107456208>"
      ]
     },
     "metadata": {},
     "output_type": "display_data"
    }
   ],
   "source": [
    "#Build slider for each parameter desired\n",
    "\n",
    "pSlider = FloatSlider(description='p', min=0, max=1, step=0.1)\n",
    "eSlider = FloatSlider(description='e', min=0, max=1, step=0.1)\n",
    "muSlider = FloatSlider(description='mu', min=0, max=1, step=0.005)\n",
    "betaSlider = FloatSlider(description='beta', min=0, max=.01, step=0.0005)\n",
    "gammaSlider = FloatSlider(description='gamma', min=0, max=1, step=0.05)\n",
    "\n",
    "#Update function will update the plotted graph every time a slider is changed\n",
    "\n",
    "def update():\n",
    "    \n",
    "    \"\"\"Returns a graph of the new results for a given slider parameter change.\n",
    "    \n",
    "    Parameters\n",
    "    ----------\n",
    "    p : float value of slider widget\n",
    "    e : float value of slider widget\n",
    "    mu : float value of slider widget\n",
    "    beta : float value of slider widget\n",
    "    gamma : float value of slider widget\n",
    "        \n",
    "    Returns\n",
    "    -------\n",
    "    Graph representing new populations\n",
    "    \"\"\"\n",
    "    \n",
    "    #the following parameters use slider.value to get the value of the given slider\n",
    "    p = pSlider.value\n",
    "    e = eSlider.value    \n",
    "    mu = muSlider.value\n",
    "    beta = betaSlider.value\n",
    "    gamma = gammaSlider.value\n",
    "    \n",
    "    #inital population\n",
    "    S0 = 100\n",
    "    V0 = 50\n",
    "    I0 = 75\n",
    "    R0 = 10\n",
    "\n",
    "    N = S0 + I0 + R0 + V0\n",
    "\n",
    "    #Iteration parameters\n",
    "    T = 365\n",
    "    dt = 1\n",
    "    N = int(T/dt)+1\n",
    "    t = numpy.linspace(0, T, N)\n",
    "\n",
    "    u = numpy.zeros((N,4))\n",
    "    u[0] = [S0, V0, I0, R0]\n",
    "    \n",
    "    #Array of parameters\n",
    "    init = numpy.array([p,e,mu,beta,gamma])\n",
    "\n",
    "    for n in range(N-1):\n",
    "        u[n+1] = euler_step(u[n], f, dt, init)\n",
    "        \n",
    "    #Plot of population with gicen slider parameters\n",
    "    pyplot.figure(figsize=(15,5))\n",
    "    pyplot.grid(True)\n",
    "    pyplot.xlabel(r'time', fontsize=18)\n",
    "    pyplot.ylabel(r'population', fontsize=18)\n",
    "    pyplot.xlim(0, 500)\n",
    "    pyplot.title('Population of SVIR model over time', fontsize=18)\n",
    "    pyplot.plot(t,u[:,0], color= 'red', lw=2, label = 'Susceptible');\n",
    "    pyplot.plot(t,u[:,1], color='green', lw=2, label = 'Vaccinated');\n",
    "    pyplot.plot(t,u[:,2], color='black', lw=2, label = 'Infected');\n",
    "    pyplot.plot(t,u[:,3], color='blue', lw=2, label = 'Recovered');\n",
    "    pyplot.legend();\n",
    "    \n",
    "    #Clear the output otherwise it will create a new graph every time so you will end up with multiple graphs\n",
    "    clear_output(True) #This ensures it recreates the data on the initial graph\n",
    "    \n",
    "#Run the update function on slider values change\n",
    "pSlider.on_trait_change(update, 'value')\n",
    "eSlider.on_trait_change(update, 'value')\n",
    "muSlider.on_trait_change(update, 'value')\n",
    "betaSlider.on_trait_change(update, 'value')\n",
    "gammaSlider.on_trait_change(update, 'value')\n",
    "\n",
    "    \n",
    "display(pSlider, eSlider, muSlider, betaSlider, gammaSlider) #Display sliders\n",
    "update() # Run initial function"
   ]
  },
  {
   "cell_type": "markdown",
   "metadata": {},
   "source": [
    "Notice that the graph starts with all parameters equal to zero. Unfortunately we cannot set the initial value of the slider. We can work around this using conditional statements to see if the slider values are equal to zero, then use different parameters.\n",
    "\n",
    "Notice that as you change the parameters the graph starts to come alive! This allows you to quickly compare how different parameters affect the results of our model!"
   ]
  },
  {
   "cell_type": "markdown",
   "metadata": {},
   "source": [
    "## Dig deeper?\n",
    "\n",
    "Using the ipywidget library, create a new function that allows for user input. Using the python array of objects below, which contains various diseases and their initial parameters, have the user type in one of the disease names and return the graph corresponding to that disease! You can use the ipywidget text box to take in the value from the user and then pass that value to a function that will call out that disease from the object below!\n",
    "\n"
   ]
  },
  {
   "cell_type": "code",
   "execution_count": 379,
   "metadata": {
    "collapsed": false
   },
   "outputs": [
    {
     "name": "stdout",
     "output_type": "stream",
     "text": [
      "Text\n"
     ]
    },
    {
     "data": {
      "text/plain": [
       "<function __main__.z>"
      ]
     },
     "execution_count": 379,
     "metadata": {},
     "output_type": "execute_result"
    }
   ],
   "source": [
    "Disease = [{'name': \"Ebola\", 'p': 0, 'e': 0, 'mu': .04, 'beta': .005, 'gamma': 0}, \\\n",
    "           {'name': \"Measles\", 'p': .9, 'e': .9, 'mu': .02, 'beta': .002, 'gamma': .9}, \\\n",
    "           {'name': \"Tuberculosis\", 'p': .5, 'e': .2, 'mu': .06, 'beta': .001, 'gamma': .3}]\n",
    "\n",
    "#Example\n",
    "\n",
    "def z(x):\n",
    "    print(x)\n",
    "interact(z, x = 'Text')"
   ]
  },
  {
   "cell_type": "markdown",
   "metadata": {},
   "source": [
    "## References\n",
    "\n",
    "* Scherer, A. and McLean, A. \"Mathematical Models of Vaccination\", British Medical Bulletin Volume 62 Issue 1, 2015 Oxford University Press. [Online](http://bmb.oxfordjournals.org/content/62/1/187.long#F2)\n",
    "\n",
    "* For a good explanation of some of the simpler models and overview of parameters, visit this [Wiki Page](https://en.wikipedia.org/wiki/Epidemic_model)\n",
    "\n",
    "* Slider tutorial posted on [github](https://github.com/ipython/ipywidgets/issues/145)\n",
    "\n",
    "\n"
   ]
  },
  {
   "cell_type": "code",
   "execution_count": 380,
   "metadata": {
    "collapsed": false
   },
   "outputs": [
    {
     "data": {
      "text/html": [
       "<link href='http://fonts.googleapis.com/css?family=Alegreya+Sans:100,300,400,500,700,800,900,100italic,300italic,400italic,500italic,700italic,800italic,900italic' rel='stylesheet' type='text/css'>\n",
       "<link href='http://fonts.googleapis.com/css?family=Arvo:400,700,400italic' rel='stylesheet' type='text/css'>\n",
       "<link href='http://fonts.googleapis.com/css?family=PT+Mono' rel='stylesheet' type='text/css'>\n",
       "<link href='http://fonts.googleapis.com/css?family=Shadows+Into+Light' rel='stylesheet' type='text/css'>\n",
       "<link href='http://fonts.googleapis.com/css?family=Nixie+One' rel='stylesheet' type='text/css'>\n",
       "<link href='https://fonts.googleapis.com/css?family=Source+Code+Pro' rel='stylesheet' type='text/css'>\n",
       "<style>\n",
       "\n",
       "@font-face {\n",
       "    font-family: \"Computer Modern\";\n",
       "    src: url('http://mirrors.ctan.org/fonts/cm-unicode/fonts/otf/cmunss.otf');\n",
       "}\n",
       "\n",
       "#notebook_panel { /* main background */\n",
       "    background: rgb(245,245,245);\n",
       "}\n",
       "\n",
       "div.cell { /* set cell width */\n",
       "    width: 750px;\n",
       "}\n",
       "\n",
       "div #notebook { /* centre the content */\n",
       "    background: #fff; /* white background for content */\n",
       "    width: 1000px;\n",
       "    margin: auto;\n",
       "    padding-left: 0em;\n",
       "}\n",
       "\n",
       "#notebook li { /* More space between bullet points */\n",
       "    margin-top:0.8em;\n",
       "}\n",
       "\n",
       "/* draw border around running cells */\n",
       "div.cell.border-box-sizing.code_cell.running { \n",
       "    border: 1px solid #111;\n",
       "}\n",
       "\n",
       "/* Put a solid color box around each cell and its output, visually linking them*/\n",
       "div.cell.code_cell {\n",
       "    background-color: rgb(256,256,256); \n",
       "    border-radius: 0px; \n",
       "    padding: 0.5em;\n",
       "    margin-left:1em;\n",
       "    margin-top: 1em;\n",
       "}\n",
       "\n",
       "div.text_cell_render{\n",
       "    font-family: 'Alegreya Sans' sans-serif;\n",
       "    line-height: 140%;\n",
       "    font-size: 125%;\n",
       "    font-weight: 400;\n",
       "    width:600px;\n",
       "    margin-left:auto;\n",
       "    margin-right:auto;\n",
       "}\n",
       "\n",
       "\n",
       "/* Formatting for header cells */\n",
       ".text_cell_render h1 {\n",
       "    font-family: 'Nixie One', serif;\n",
       "    font-style:regular;\n",
       "    font-weight: 400;    \n",
       "    font-size: 45pt;\n",
       "    line-height: 100%;\n",
       "    color: rgb(0,51,102);\n",
       "    margin-bottom: 0.5em;\n",
       "    margin-top: 0.5em;\n",
       "    display: block;\n",
       "}\n",
       "\n",
       ".text_cell_render h2 {\n",
       "    font-family: 'Nixie One', serif;\n",
       "    font-weight: 400;\n",
       "    font-size: 30pt;\n",
       "    line-height: 100%;\n",
       "    color: rgb(0,51,102);\n",
       "    margin-bottom: 0.1em;\n",
       "    margin-top: 0.3em;\n",
       "    display: block;\n",
       "}\t\n",
       "\n",
       ".text_cell_render h3 {\n",
       "    font-family: 'Nixie One', serif;\n",
       "    margin-top:16px;\n",
       "    font-size: 22pt;\n",
       "    font-weight: 600;\n",
       "    margin-bottom: 3px;\n",
       "    font-style: regular;\n",
       "    color: rgb(102,102,0);\n",
       "}\n",
       "\n",
       ".text_cell_render h4 {    /*Use this for captions*/\n",
       "    font-family: 'Nixie One', serif;\n",
       "    font-size: 14pt;\n",
       "    text-align: center;\n",
       "    margin-top: 0em;\n",
       "    margin-bottom: 2em;\n",
       "    font-style: regular;\n",
       "}\n",
       "\n",
       ".text_cell_render h5 {  /*Use this for small titles*/\n",
       "    font-family: 'Nixie One', sans-serif;\n",
       "    font-weight: 400;\n",
       "    font-size: 16pt;\n",
       "    color: rgb(163,0,0);\n",
       "    font-style: italic;\n",
       "    margin-bottom: .1em;\n",
       "    margin-top: 0.8em;\n",
       "    display: block;\n",
       "}\n",
       "\n",
       ".text_cell_render h6 { /*use this for copyright note*/\n",
       "    font-family: 'PT Mono', sans-serif;\n",
       "    font-weight: 300;\n",
       "    font-size: 9pt;\n",
       "    line-height: 100%;\n",
       "    color: grey;\n",
       "    margin-bottom: 1px;\n",
       "    margin-top: 1px;\n",
       "}\n",
       "\n",
       ".CodeMirror{\n",
       "    font-family: \"Source Code Pro\";\n",
       "    font-size: 90%;\n",
       "}\n",
       "\n",
       ".alert-box {\n",
       "    padding:10px 10px 10px 36px;\n",
       "    margin:5px;\n",
       "}\n",
       "\n",
       ".success {\n",
       "    color:#666600;\n",
       "    background:rgb(240,242,229);\n",
       "}\n",
       "</style>\n",
       "<script>\n",
       "    MathJax.Hub.Config({\n",
       "                        TeX: {\n",
       "                           extensions: [\"AMSmath.js\"],\n",
       "                           equationNumbers: { autoNumber: \"AMS\", useLabelIds: true}\n",
       "                           },\n",
       "                tex2jax: {\n",
       "                    inlineMath: [ ['$','$'], [\"\\\\(\",\"\\\\)\"] ],\n",
       "                    displayMath: [ ['$$','$$'], [\"\\\\[\",\"\\\\]\"] ]\n",
       "                },\n",
       "                displayAlign: 'center', // Change this to 'center' to center equations.\n",
       "                \"HTML-CSS\": {\n",
       "                    styles: {'.MathJax_Display': {\"margin\": 4}}\n",
       "                }\n",
       "        });\n",
       "</script>\n",
       "\n"
      ],
      "text/plain": [
       "<IPython.core.display.HTML object>"
      ]
     },
     "execution_count": 380,
     "metadata": {},
     "output_type": "execute_result"
    }
   ],
   "source": [
    "from IPython.core.display import HTML\n",
    "css_file = 'numericalmoocstyle.css'\n",
    "HTML(open(css_file, \"r\").read())"
   ]
  }
 ],
 "metadata": {
  "kernelspec": {
   "display_name": "Python 3",
   "language": "python",
   "name": "python3"
  },
  "language_info": {
   "codemirror_mode": {
    "name": "ipython",
    "version": 3
   },
   "file_extension": ".py",
   "mimetype": "text/x-python",
   "name": "python",
   "nbconvert_exporter": "python",
   "pygments_lexer": "ipython3",
   "version": "3.4.3"
  }
 },
 "nbformat": 4,
 "nbformat_minor": 0
}
