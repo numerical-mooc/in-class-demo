{
 "cells": [
  {
   "cell_type": "code",
   "execution_count": 1,
   "metadata": {
    "collapsed": false
   },
   "outputs": [],
   "source": [
    "from math import sin, cos, log, ceil\n",
    "import numpy\n",
    "from matplotlib import pyplot\n",
    "%matplotlib inline\n",
    "from matplotlib import rcParams\n",
    "rcParams['font.family'] = 'serif'\n",
    "rcParams['font.size']=16"
   ]
  },
  {
   "cell_type": "code",
   "execution_count": 2,
   "metadata": {
    "collapsed": true
   },
   "outputs": [],
   "source": [
    "# model parameters:\n",
    "g= 9.8     #[m/s^2]\n",
    "v_t = 20.0 #[m/s] trim velocity\n",
    "C_D = 1/40 #drag coef.\n",
    "C_L = 1    #coefficient of lift\n",
    "\n",
    "#ICs\n",
    "v0 = v_t\n",
    "theta0 = 0\n",
    "x0 = 0\n",
    "y0 = 1000"
   ]
  },
  {
   "cell_type": "code",
   "execution_count": 3,
   "metadata": {
    "collapsed": true
   },
   "outputs": [],
   "source": [
    "def f(u):\n",
    "    \"\"\" Returns RHS of phugoid system of eqns.\n",
    "    parameters: \n",
    "        u - array of float with solution at time n\n",
    "        \n",
    "    returns:\n",
    "        dudt - array of float with solution of RHS given u    \n",
    "    \"\"\"\n",
    "    \n",
    "    v = u[0]\n",
    "    theta = u[1]\n",
    "    x = u[2]\n",
    "    y = u[3]\n",
    "    return numpy.array([-g*sin(theta) - C_D/C_L*g/v_t**2*v**2,\n",
    "                       -g*cos(theta)/v +g/v_t**2*v,\n",
    "                       v*cos(theta),\n",
    "                       v*sin(theta)])"
   ]
  },
  {
   "cell_type": "code",
   "execution_count": 4,
   "metadata": {
    "collapsed": true
   },
   "outputs": [],
   "source": [
    "def euler(u,f,dt):\n",
    "    \"\"\"Euler's method, returns next time step\n",
    "    \n",
    "    u: soln. at previous time step\n",
    "    f: function to compute RHS of system of equations\n",
    "    dt: dt.\n",
    "    \n",
    "    \"\"\"\n",
    "    return u + dt*f(u)"
   ]
  },
  {
   "cell_type": "code",
   "execution_count": 5,
   "metadata": {
    "collapsed": false
   },
   "outputs": [],
   "source": [
    "T = 100 #t_final\n",
    "dt = 0.1\n",
    "N = int(T/dt) + 1\n",
    "t = numpy.linspace(0,T,N)\n",
    "#initialize array\n",
    "u = numpy.empty((N,4))\n",
    "u[0] = numpy.array([v0, theta0, x0, y0]) #ICs\n",
    "\n",
    "#Euler's method\n",
    "for n in range(N-1):\n",
    "    u[n+1] = euler(u[n], f, dt)"
   ]
  },
  {
   "cell_type": "code",
   "execution_count": 6,
   "metadata": {
    "collapsed": true
   },
   "outputs": [],
   "source": [
    "x = u[:,2]\n",
    "y = u[:,3]"
   ]
  },
  {
   "cell_type": "code",
   "execution_count": 7,
   "metadata": {
    "collapsed": false
   },
   "outputs": [
    {
     "data": {
      "image/png": "[encoded data removed]",
      "text/plain": [
       "<matplotlib.figure.Figure at 0x7f1b08992588>"
      ]
     },
     "metadata": {},
     "output_type": "display_data"
    }
   ],
   "source": [
    "pyplot.figure(figsize=(8,6))\n",
    "pyplot.grid(True)\n",
    "pyplot.xlabel(r'x', fontsize=18)\n",
    "pyplot.ylabel(r'y', fontsize=18)\n",
    "pyplot.title('Glider trajectory, flight time = %.2f' %T, fontsize=18)\n",
    "pyplot.plot(x,y, lw=2);"
   ]
  },
  {
   "cell_type": "code",
   "execution_count": 8,
   "metadata": {
    "collapsed": false
   },
   "outputs": [],
   "source": [
    "dt_values = numpy.array([0.1, 0.05, 0.01, 0.005, 0.001])\n",
    "u_values = numpy.empty_like(dt_values, dtype=numpy.ndarray)\n",
    "for i, dt in enumerate(dt_values):\n",
    "    N=int(T/dt) + 1\n",
    "    t = numpy.linspace(0.0, T, N)\n",
    "    \n",
    "    #initialize solution array\n",
    "    u = numpy.empty((N,4))\n",
    "    u[0] = numpy.array([v0, theta0, x0, y0])\n",
    "\n",
    "    for n in range(N-1):\n",
    "        u[n+1] = euler(u[n], f, dt)\n",
    "        \n",
    "    u_values[i] = u"
   ]
  },
  {
   "cell_type": "code",
   "execution_count": 9,
   "metadata": {
    "collapsed": true
   },
   "outputs": [],
   "source": [
    "def get_diffgrid(u_current, u_fine, dt):\n",
    "    \"\"\"Returns the difference between one grid and the finest grid using the L1 norm\n",
    "    parameters: \n",
    "        u_current: solution on current grid\n",
    "        u_finest:  solution on fine grid\n",
    "        dt\n",
    "        \n",
    "    returns:\n",
    "        diffgrid: difference computed in L1 norm\n",
    "    \"\"\"\n",
    "    N_current = len(u_current[:,0])\n",
    "    N_fine = len(u_fine[:,0])\n",
    "    \n",
    "    grid_size_ratio = ceil(N_fine/N_current)\n",
    "    diffgrid = dt*numpy.sum(numpy.abs(u_current[:,2]-u_fine[::grid_size_ratio,2]))\n",
    "    \n",
    "    return diffgrid"
   ]
  },
  {
   "cell_type": "code",
   "execution_count": 10,
   "metadata": {
    "collapsed": false
   },
   "outputs": [
    {
     "name": "stdout",
     "output_type": "stream",
     "text": [
      "dt = 0.1\n",
      "dt = 0.05\n",
      "dt = 0.01\n",
      "dt = 0.005\n",
      "dt = 0.001\n"
     ]
    }
   ],
   "source": [
    "diffgrid = numpy.empty_like(dt_values)\n",
    "\n",
    "for i, dt in enumerate(dt_values):\n",
    "    print('dt = {}'.format(dt))\n",
    "    \n",
    "    diffgrid[i] = get_diffgrid(u_values[i], u_values[-1], dt)"
   ]
  },
  {
   "cell_type": "code",
   "execution_count": 11,
   "metadata": {
    "collapsed": false
   },
   "outputs": [
    {
     "data": {
      "image/png": "[encoded data removed]",
      "text/plain": [
       "<matplotlib.figure.Figure at 0x7f1b087b9eb8>"
      ]
     },
     "metadata": {},
     "output_type": "display_data"
    }
   ],
   "source": [
    "pyplot.figure(figsize=(6,6))\n",
    "pyplot.grid(True)\n",
    "pyplot.xlabel('$\\Delta t$', fontsize=18)\n",
    "pyplot.ylabel('$L_1$-norm of the grid differences', fontsize=18)\n",
    "pyplot.axis('equal')\n",
    "pyplot.loglog(dt_values[:-1], diffgrid[:-1], ls='-', marker='o', lw=2);"
   ]
  },
  {
   "cell_type": "code",
   "execution_count": 12,
   "metadata": {
    "collapsed": false
   },
   "outputs": [
    {
     "name": "stdout",
     "output_type": "stream",
     "text": [
      "The order of convergence is p = 1.029\n"
     ]
    }
   ],
   "source": [
    "\n",
    "\n",
    "r = 2  #what is r?\n",
    "h = 0.001\n",
    "\n",
    "dt_values2 = numpy.array([h, r*h, r**2*h])\n",
    "\n",
    "u_values2 = numpy.empty_like(dt_values2, dtype=numpy.ndarray)\n",
    "\n",
    "diffgrid2 = numpy.empty(2)\n",
    "\n",
    "for i, dt in enumerate(dt_values2):\n",
    "    \n",
    "    N = int(T/dt) + 1   # number of time-steps\n",
    "    \n",
    "    ### discretize the time t ###\n",
    "    t = numpy.linspace(0.0, T, N)\n",
    "    \n",
    "    # initialize the array containing the solution for each time-step\n",
    "    u = numpy.empty((N, 4))\n",
    "    u[0] = numpy.array([v0, theta0, x0, y0])\n",
    "\n",
    "    for n in range(N-1):\n",
    "\n",
    "        u[n+1] = euler(u[n], f, dt)         \n",
    "    \n",
    "    # store the value of u related to one grid\n",
    "    u_values2[i] = u\n",
    "    \n",
    "\n",
    "#calculate f2 - f1\n",
    "diffgrid2[0] = get_diffgrid(u_values2[1], u_values2[0], dt_values2[1])\n",
    "\n",
    "#calculate f3 - f2\n",
    "diffgrid2[1] = get_diffgrid(u_values2[2], u_values2[1], dt_values2[2])\n",
    "\n",
    "# calculate the order of convergence\n",
    "p = (log(diffgrid2[1]) - log(diffgrid2[0])) / log(r)\n",
    "\n",
    "print('The order of convergence is p = {:.3f}'.format(p));"
   ]
  },
  {
   "cell_type": "markdown",
   "metadata": {},
   "source": [
    "Paper Airplane Challenge: \n",
    "  - Find a combination of launch angle and velocity that gives best distance.\n",
    "    "
   ]
  },
  {
   "cell_type": "code",
   "execution_count": 13,
   "metadata": {
    "collapsed": false
   },
   "outputs": [],
   "source": [
    "L_D = 5.0\n",
    "C_D = 1/L_D\n",
    "v_t = 4.9 #[m/s]\n",
    "#ICs\n",
    "theta0 = 0\n",
    "x0 = 0\n",
    "y0 = 2 #[m] - a realistic height to throw a paper airplane from\n",
    "v0 = v_t\n",
    "#height = y0\n",
    "#t = [0]\n",
    "\n",
    "dt = 0.05\n",
    "#T=100\n",
    "#N = int(T/dt)+1\n",
    "#t = numpy.linspace(0,T, N)\n",
    "\n",
    "\n",
    "\n",
    "def challenge(u):\n",
    "    t=[0.0]\n",
    "    height = u[-1][3]\n",
    "    while height > 0:\n",
    "        t = numpy.append(t, t[-1]+dt)\n",
    "        temp = euler(u[-1], f, dt)\n",
    "        u = numpy.append(u, [temp], axis=0)\n",
    "\n",
    "        height = u[-1][3]\n",
    "        \n",
    "        return u\n",
    "    \n",
    "\n",
    "max_dist = 0.0\n",
    "max_params = [0, 0]\n",
    "for theta0 in range (0, 90, 5):\n",
    "    for v_t in range (1, 10):\n",
    "        v0 = v_t\n",
    "        u = numpy.empty((1,4))\n",
    "        u[0] = numpy.array([v0, theta0, x0, y0])\n",
    "        \n",
    "        u_final = challenge(u)\n",
    "        if u_final[-1][2] > max_dist:\n",
    "            max_params = [v0, theta0]\n",
    "            max_dist = u_final[-1][2]\n",
    "\n"
   ]
  },
  {
   "cell_type": "code",
   "execution_count": 14,
   "metadata": {
    "collapsed": false
   },
   "outputs": [
    {
     "name": "stdout",
     "output_type": "stream",
     "text": [
      "0.45\n",
      "[9, 0]\n"
     ]
    }
   ],
   "source": [
    "print(max_dist)\n",
    "print(max_params)"
   ]
  },
  {
   "cell_type": "code",
   "execution_count": 15,
   "metadata": {
    "collapsed": false
   },
   "outputs": [
    {
     "name": "stdout",
     "output_type": "stream",
     "text": [
      "[[ 9.  0.  0.  2.]]\n",
      "[[  9.00000000e+00   0.00000000e+00   0.00000000e+00   2.00000000e+00]\n",
      " [  8.90200000e+00   0.00000000e+00   4.50000000e-01   2.00000000e+00]\n",
      " [  8.80612260e+00  -1.19220544e-03   8.95100000e-01   2.00000000e+00]\n",
      " [  8.71288352e+00  -3.56366451e-03   1.33540582e+00   1.99947506e+00]\n",
      " [  8.62278274e+00  -7.09429777e-03   1.77104723e+00   1.99792258e+00]\n",
      " [  8.53630171e+00  -1.17565576e-02   2.20217551e+00   1.99486397e+00]\n",
      " [  8.45390047e+00  -1.75151421e-02   2.62896110e+00   1.98984621e+00]\n",
      " [  8.37601447e+00  -2.43267833e-02   3.05159129e+00   1.98244303e+00]\n",
      " [  8.30305136e+00  -3.21401334e-02   3.47026810e+00   1.97225596e+00]\n",
      " [  8.23538762e+00  -4.08957690e-02   3.88520626e+00   1.95891520e+00]\n",
      " [  8.17336519e+00  -5.05263335e-02   4.29663136e+00   1.94208027e+00]\n",
      " [  8.11728809e+00  -6.09568378e-02   4.70477808e+00   1.92144054e+00]\n",
      " [  8.06741924e+00  -7.21051283e-02   5.10988868e+00   1.89671565e+00]\n",
      " [  8.02397744e+00  -8.38825320e-02   5.51221150e+00   1.86765573e+00]\n",
      " [  7.98713475e+00  -9.61946766e-02   5.91199973e+00   1.83404161e+00]\n",
      " [  7.95701423e+00  -1.08942476e-01   6.30951018e+00   1.79568483e+00]\n",
      " [  7.93368830e+00  -1.22023266e-01   6.70500229e+00   1.75242768e+00]\n",
      " [  7.91717767e+00  -1.35332054e-01   7.09873711e+00   1.70414298e+00]\n",
      " [  7.90745103e+00  -1.48762865e-01   7.49097650e+00   1.65073396e+00]\n",
      " [  7.90442537e+00  -1.62210127e-01   7.88198223e+00   1.59213391e+00]\n",
      " [  7.90796721e+00  -1.75570059e-01   8.27201534e+00   1.52830579e+00]\n",
      " [  7.91789448e+00  -1.88742018e-01   8.66133529e+00   1.45924177e+00]\n",
      " [  7.93397909e+00  -2.01629767e-01   9.05019933e+00   1.38496265e+00]\n",
      " [  7.95595026e+00  -2.14142611e-01   9.43886176e+00   1.30551720e+00]\n",
      " [  7.98349829e+00  -2.26196387e-01   9.82757316e+00   1.22098137e+00]\n",
      " [  8.01627879e+00  -2.37714275e-01   1.02165797e+01   1.13145744e+00]\n",
      " [  8.05391732e+00  -2.48627427e-01   1.06061222e+01   1.03707306e+00]\n",
      " [  8.09601415e+00  -2.58875395e-01   1.09964357e+01   9.37980145e-01]\n",
      " [  8.14214911e+00  -2.68406378e-01   1.13877478e+01   8.34353762e-01]\n",
      " [  8.19188649e+00  -2.77177289e-01   1.17802787e+01   7.26390814e-01]\n",
      " [  8.24477977e+00  -2.85153665e-01   1.21742395e+01   6.14308698e-01]\n",
      " [  8.30037613e+00  -2.92309444e-01   1.25698316e+01   4.98343844e-01]\n",
      " [  8.35822077e+00  -2.98626616e-01   1.29672457e+01   3.78750170e-01]\n",
      " [  8.41786084e+00  -3.04094803e-01   1.33666606e+01   2.55797447e-01]\n",
      " [  8.47884904e+00  -3.08710756e-01   1.37682424e+01   1.29769598e-01]\n",
      " [  8.54074694e+00  -3.12477814e-01   1.41721434e+01   9.62911386e-04]\n",
      " [  8.60312780e+00  -3.15405345e-01   1.45785014e+01  -1.30315801e-01]]\n"
     ]
    }
   ],
   "source": [
    "t=[0.0]\n",
    "v0 = 9\n",
    "theta0 = 0\n",
    "u = numpy.empty((1,4))\n",
    "u[0] = numpy.array([v0, theta0, x0, y0])\n",
    "\n",
    "height = u[-1][3]\n",
    "print(u)\n",
    "while height > 0:\n",
    "    t = numpy.append(t, t[-1]+dt)\n",
    "    temp = euler(u[-1], f, dt)\n",
    "    u = numpy.append(u, [temp], axis=0)\n",
    "\n",
    "    height = u[-1][3]\n",
    "#print(u)"
   ]
  },
  {
   "cell_type": "code",
   "execution_count": 28,
   "metadata": {
    "collapsed": false
   },
   "outputs": [
    {
     "name": "stdout",
     "output_type": "stream",
     "text": [
      "max distance: 0.45, v0= 9.00, theta0 = 0.00\n"
     ]
    },
    {
     "data": {
      "image/png": "[encoded data removed]",
      "text/plain": [
       "<matplotlib.figure.Figure at 0x7f1b07ceeb38>"
      ]
     },
     "metadata": {},
     "output_type": "display_data"
    }
   ],
   "source": [
    "t=[0.0]\n",
    "v0 = max_params[0]\n",
    "theta0 = max_params[1]\n",
    "u_longest = numpy.empty((1,4))\n",
    "u_longest[0] = numpy.array([v0, theta0, x0, y0])\n",
    "\n",
    "height = u_longest[-1][3]\n",
    "while height > 0:\n",
    "    t = numpy.append(t, t[-1]+dt)\n",
    "    temp = euler(u_longest[-1], f, dt)\n",
    "    u_longest = numpy.append(u_longest, [temp], axis=0)\n",
    "\n",
    "    height = u_longest[-1][3]\n",
    "\n",
    "#print(u_longest)\n",
    "x = u_longest[:-1,2]\n",
    "y = u_longest[:-1,3]\n",
    "pyplot.figure(figsize=(8,6))\n",
    "pyplot.grid(True)\n",
    "pyplot.xlabel(r'x', fontsize=18)\n",
    "pyplot.ylabel(r'y', fontsize=18)\n",
    "pyplot.title('Paper airplane trajectory', fontsize=18)\n",
    "pyplot.plot(x,y, 'k-', lw=2);\n",
    "\n",
    "print(\"max distance: {:.2f}, v0= {:.2f}, theta0 = {:.2f}\".format(max_dist, max_params[0], max_params[1]))"
   ]
  },
  {
   "cell_type": "code",
   "execution_count": null,
   "metadata": {
    "collapsed": false
   },
   "outputs": [],
   "source": [
    "\n"
   ]
  },
  {
   "cell_type": "code",
   "execution_count": null,
   "metadata": {
    "collapsed": false
   },
   "outputs": [],
   "source": [
    "\n"
   ]
  },
  {
   "cell_type": "code",
   "execution_count": null,
   "metadata": {
    "collapsed": true
   },
   "outputs": [],
   "source": []
  }
 ],
 "metadata": {
  "kernelspec": {
   "display_name": "Python 3",
   "language": "python",
   "name": "python3"
  },
  "language_info": {
   "codemirror_mode": {
    "name": "ipython",
    "version": 3
   },
   "file_extension": ".py",
   "mimetype": "text/x-python",
   "name": "python",
   "nbconvert_exporter": "python",
   "pygments_lexer": "ipython3",
   "version": "3.4.3"
  }
 },
 "nbformat": 4,
 "nbformat_minor": 0
}
